{
 "cells": [
  {
   "cell_type": "code",
   "execution_count": 598,
   "metadata": {},
   "outputs": [],
   "source": [
    "import pandas as pd\n",
    "import numpy as np\n",
    "import matplotlib.pyplot as plt\n",
    "import seaborn as sns\n",
    "%matplotlib inline\n",
    "\n",
    "from sklearn.linear_model import LinearRegression\n",
    "from scipy import stats\n",
    "from sklearn import preprocessing as prep"
   ]
  },
  {
   "cell_type": "markdown",
   "metadata": {},
   "source": [
    "# Reading & Merging the Datasets"
   ]
  },
  {
   "cell_type": "code",
   "execution_count": 599,
   "metadata": {
    "scrolled": true
   },
   "outputs": [
    {
     "data": {
      "text/html": [
       "<div>\n",
       "<style scoped>\n",
       "    .dataframe tbody tr th:only-of-type {\n",
       "        vertical-align: middle;\n",
       "    }\n",
       "\n",
       "    .dataframe tbody tr th {\n",
       "        vertical-align: top;\n",
       "    }\n",
       "\n",
       "    .dataframe thead th {\n",
       "        text-align: right;\n",
       "    }\n",
       "</style>\n",
       "<table border=\"1\" class=\"dataframe\">\n",
       "  <thead>\n",
       "    <tr style=\"text-align: right;\">\n",
       "      <th></th>\n",
       "      <th>2019-2020 NBA Player Stats | NBAstuffer</th>\n",
       "      <th>Unnamed: 1</th>\n",
       "      <th>Unnamed: 2</th>\n",
       "      <th>Unnamed: 3</th>\n",
       "      <th>Unnamed: 4</th>\n",
       "      <th>Unnamed: 5</th>\n",
       "      <th>Unnamed: 6</th>\n",
       "      <th>Unnamed: 7</th>\n",
       "      <th>Unnamed: 8</th>\n",
       "      <th>Unnamed: 9</th>\n",
       "      <th>...</th>\n",
       "      <th>Unnamed: 19</th>\n",
       "      <th>Unnamed: 20</th>\n",
       "      <th>Unnamed: 21</th>\n",
       "      <th>Unnamed: 22</th>\n",
       "      <th>Unnamed: 23</th>\n",
       "      <th>Unnamed: 24</th>\n",
       "      <th>Unnamed: 25</th>\n",
       "      <th>Unnamed: 26</th>\n",
       "      <th>Unnamed: 27</th>\n",
       "      <th>Unnamed: 28</th>\n",
       "    </tr>\n",
       "  </thead>\n",
       "  <tbody>\n",
       "    <tr>\n",
       "      <th>0</th>\n",
       "      <td>RANK</td>\n",
       "      <td>FULL NAME</td>\n",
       "      <td>TEAM</td>\n",
       "      <td>POS</td>\n",
       "      <td>AGE</td>\n",
       "      <td>GP</td>\n",
       "      <td>MPG</td>\n",
       "      <td>MIN%Minutes PercentagePercentage of team minut...</td>\n",
       "      <td>USG%Usage RateUsage rate, a.k.a., usage percen...</td>\n",
       "      <td>TO%Turnover RateA metric that estimates the nu...</td>\n",
       "      <td>...</td>\n",
       "      <td>RPGReboundsRebounds per game.</td>\n",
       "      <td>TRB%Total Rebound PercentageTotal rebound perc...</td>\n",
       "      <td>APGAssistsAssists per game.</td>\n",
       "      <td>AST%Assist PercentageAssist percentage is an e...</td>\n",
       "      <td>SPGStealsSteals per game.</td>\n",
       "      <td>BPGBlocksBlocks per game.</td>\n",
       "      <td>TOPGTurnoversTurnovers per game.</td>\n",
       "      <td>VIVersatility IndexVersatility index is a metr...</td>\n",
       "      <td>ORTGOffensive RatingIndividual offensive ratin...</td>\n",
       "      <td>DRTGDefensive RatingIndividual defensive ratin...</td>\n",
       "    </tr>\n",
       "    <tr>\n",
       "      <th>1</th>\n",
       "      <td>NaN</td>\n",
       "      <td>Steven Adams</td>\n",
       "      <td>Okc</td>\n",
       "      <td>C</td>\n",
       "      <td>27.07</td>\n",
       "      <td>63</td>\n",
       "      <td>26.7</td>\n",
       "      <td>55.6</td>\n",
       "      <td>17.3</td>\n",
       "      <td>14.4</td>\n",
       "      <td>...</td>\n",
       "      <td>9.3</td>\n",
       "      <td>19.2</td>\n",
       "      <td>2.3</td>\n",
       "      <td>13.2</td>\n",
       "      <td>0.81</td>\n",
       "      <td>1.06</td>\n",
       "      <td>1.51</td>\n",
       "      <td>9.2</td>\n",
       "      <td>122</td>\n",
       "      <td>101.9</td>\n",
       "    </tr>\n",
       "    <tr>\n",
       "      <th>2</th>\n",
       "      <td>NaN</td>\n",
       "      <td>Bam Adebayo</td>\n",
       "      <td>Mia</td>\n",
       "      <td>C-F</td>\n",
       "      <td>23.08</td>\n",
       "      <td>72</td>\n",
       "      <td>33.6</td>\n",
       "      <td>69.9</td>\n",
       "      <td>21.2</td>\n",
       "      <td>17.5</td>\n",
       "      <td>...</td>\n",
       "      <td>10.2</td>\n",
       "      <td>17</td>\n",
       "      <td>5.1</td>\n",
       "      <td>24.2</td>\n",
       "      <td>1.14</td>\n",
       "      <td>1.29</td>\n",
       "      <td>2.82</td>\n",
       "      <td>11.2</td>\n",
       "      <td>116.2</td>\n",
       "      <td>102.2</td>\n",
       "    </tr>\n",
       "    <tr>\n",
       "      <th>3</th>\n",
       "      <td>NaN</td>\n",
       "      <td>LaMarcus Aldridge</td>\n",
       "      <td>San</td>\n",
       "      <td>F-C</td>\n",
       "      <td>35.07</td>\n",
       "      <td>53</td>\n",
       "      <td>33.1</td>\n",
       "      <td>68.9</td>\n",
       "      <td>23.4</td>\n",
       "      <td>7.8</td>\n",
       "      <td>...</td>\n",
       "      <td>7.4</td>\n",
       "      <td>12</td>\n",
       "      <td>2.4</td>\n",
       "      <td>11.4</td>\n",
       "      <td>0.68</td>\n",
       "      <td>1.64</td>\n",
       "      <td>1.4</td>\n",
       "      <td>8.4</td>\n",
       "      <td>114.7</td>\n",
       "      <td>109.1</td>\n",
       "    </tr>\n",
       "    <tr>\n",
       "      <th>4</th>\n",
       "      <td>NaN</td>\n",
       "      <td>Kyle Alexander</td>\n",
       "      <td>Mia</td>\n",
       "      <td>F-C</td>\n",
       "      <td>23.81</td>\n",
       "      <td>2</td>\n",
       "      <td>6.7</td>\n",
       "      <td>14</td>\n",
       "      <td>9.9</td>\n",
       "      <td>33.3</td>\n",
       "      <td>...</td>\n",
       "      <td>1.5</td>\n",
       "      <td>12.5</td>\n",
       "      <td>0</td>\n",
       "      <td>0</td>\n",
       "      <td>0</td>\n",
       "      <td>0</td>\n",
       "      <td>0.5</td>\n",
       "      <td>0</td>\n",
       "      <td>96</td>\n",
       "      <td>108.8</td>\n",
       "    </tr>\n",
       "  </tbody>\n",
       "</table>\n",
       "<p>5 rows × 29 columns</p>\n",
       "</div>"
      ],
      "text/plain": [
       "  2019-2020 NBA Player Stats | NBAstuffer         Unnamed: 1 Unnamed: 2  \\\n",
       "0                                    RANK          FULL NAME       TEAM   \n",
       "1                                     NaN       Steven Adams        Okc   \n",
       "2                                     NaN        Bam Adebayo        Mia   \n",
       "3                                     NaN  LaMarcus Aldridge        San   \n",
       "4                                     NaN     Kyle Alexander        Mia   \n",
       "\n",
       "  Unnamed: 3 Unnamed: 4 Unnamed: 5 Unnamed: 6  \\\n",
       "0        POS        AGE         GP        MPG   \n",
       "1          C      27.07         63       26.7   \n",
       "2        C-F      23.08         72       33.6   \n",
       "3        F-C      35.07         53       33.1   \n",
       "4        F-C      23.81          2        6.7   \n",
       "\n",
       "                                          Unnamed: 7  \\\n",
       "0  MIN%Minutes PercentagePercentage of team minut...   \n",
       "1                                               55.6   \n",
       "2                                               69.9   \n",
       "3                                               68.9   \n",
       "4                                                 14   \n",
       "\n",
       "                                          Unnamed: 8  \\\n",
       "0  USG%Usage RateUsage rate, a.k.a., usage percen...   \n",
       "1                                               17.3   \n",
       "2                                               21.2   \n",
       "3                                               23.4   \n",
       "4                                                9.9   \n",
       "\n",
       "                                          Unnamed: 9  ...  \\\n",
       "0  TO%Turnover RateA metric that estimates the nu...  ...   \n",
       "1                                               14.4  ...   \n",
       "2                                               17.5  ...   \n",
       "3                                                7.8  ...   \n",
       "4                                               33.3  ...   \n",
       "\n",
       "                     Unnamed: 19  \\\n",
       "0  RPGReboundsRebounds per game.   \n",
       "1                            9.3   \n",
       "2                           10.2   \n",
       "3                            7.4   \n",
       "4                            1.5   \n",
       "\n",
       "                                         Unnamed: 20  \\\n",
       "0  TRB%Total Rebound PercentageTotal rebound perc...   \n",
       "1                                               19.2   \n",
       "2                                                 17   \n",
       "3                                                 12   \n",
       "4                                               12.5   \n",
       "\n",
       "                   Unnamed: 21  \\\n",
       "0  APGAssistsAssists per game.   \n",
       "1                          2.3   \n",
       "2                          5.1   \n",
       "3                          2.4   \n",
       "4                            0   \n",
       "\n",
       "                                         Unnamed: 22  \\\n",
       "0  AST%Assist PercentageAssist percentage is an e...   \n",
       "1                                               13.2   \n",
       "2                                               24.2   \n",
       "3                                               11.4   \n",
       "4                                                  0   \n",
       "\n",
       "                 Unnamed: 23                Unnamed: 24  \\\n",
       "0  SPGStealsSteals per game.  BPGBlocksBlocks per game.   \n",
       "1                       0.81                       1.06   \n",
       "2                       1.14                       1.29   \n",
       "3                       0.68                       1.64   \n",
       "4                          0                          0   \n",
       "\n",
       "                        Unnamed: 25  \\\n",
       "0  TOPGTurnoversTurnovers per game.   \n",
       "1                              1.51   \n",
       "2                              2.82   \n",
       "3                               1.4   \n",
       "4                               0.5   \n",
       "\n",
       "                                         Unnamed: 26  \\\n",
       "0  VIVersatility IndexVersatility index is a metr...   \n",
       "1                                                9.2   \n",
       "2                                               11.2   \n",
       "3                                                8.4   \n",
       "4                                                  0   \n",
       "\n",
       "                                         Unnamed: 27  \\\n",
       "0  ORTGOffensive RatingIndividual offensive ratin...   \n",
       "1                                                122   \n",
       "2                                              116.2   \n",
       "3                                              114.7   \n",
       "4                                                 96   \n",
       "\n",
       "                                         Unnamed: 28  \n",
       "0  DRTGDefensive RatingIndividual defensive ratin...  \n",
       "1                                              101.9  \n",
       "2                                              102.2  \n",
       "3                                              109.1  \n",
       "4                                              108.8  \n",
       "\n",
       "[5 rows x 29 columns]"
      ]
     },
     "execution_count": 599,
     "metadata": {},
     "output_type": "execute_result"
    }
   ],
   "source": [
    "#read in the first dataset\n",
    "#first dataset includes player statistics strictly from the 2019-2020 NBA season\n",
    "df = pd.read_csv(\"nba_player_stats.csv\")\n",
    "df.head()"
   ]
  },
  {
   "cell_type": "code",
   "execution_count": 600,
   "metadata": {},
   "outputs": [],
   "source": [
    "#delete the first column which gives no info\n",
    "#rename the columns\n",
    "new_df = df.drop(columns = ['2019-2020 NBA Player Stats | NBAstuffer']).rename(columns = {'Unnamed: 1': 'FULL NAME', 'Unnamed: 2': 'TEAM', 'Unnamed: 3': 'POS', 'Unnamed: 4': 'AGE',\n",
    "                    'Unnamed: 5': 'GP', 'Unnamed: 6':'MPG', 'Unnamed: 7':'MIN%', 'Unnamed: 8': 'USG%', 'Unnamed: 9': 'TO%',\n",
    "                    'Unnamed: 10':'FTA', 'Unnamed: 11':'FT%', 'Unnamed: 12':'2PA', 'Unnamed: 13':'2P%', 'Unnamed: 14':'3PA',\n",
    "                    'Unnamed: 15':'3P%', 'Unnamed: 16':'eFG%', 'Unnamed: 17':'TS%', 'Unnamed: 18': 'PPG', \n",
    "                    'Unnamed: 19':'RPG', 'Unnamed: 20': 'TRB%', 'Unnamed: 21':'APG', 'Unnamed: 22':'AST%', 'Unnamed: 23':'SPG',\n",
    "                    'Unnamed: 24': 'BPG', 'Unnamed: 25':'TOPG', 'Unnamed: 26':'VIVersatility', 'Unnamed: 27':'ORTG', 'Unnamed: 28':'DRTG'})"
   ]
  },
  {
   "cell_type": "code",
   "execution_count": 601,
   "metadata": {
    "scrolled": true
   },
   "outputs": [
    {
     "data": {
      "text/html": [
       "<div>\n",
       "<style scoped>\n",
       "    .dataframe tbody tr th:only-of-type {\n",
       "        vertical-align: middle;\n",
       "    }\n",
       "\n",
       "    .dataframe tbody tr th {\n",
       "        vertical-align: top;\n",
       "    }\n",
       "\n",
       "    .dataframe thead th {\n",
       "        text-align: right;\n",
       "    }\n",
       "</style>\n",
       "<table border=\"1\" class=\"dataframe\">\n",
       "  <thead>\n",
       "    <tr style=\"text-align: right;\">\n",
       "      <th></th>\n",
       "      <th>FULL NAME</th>\n",
       "      <th>TEAM</th>\n",
       "      <th>POS</th>\n",
       "      <th>AGE</th>\n",
       "      <th>GP</th>\n",
       "      <th>MPG</th>\n",
       "      <th>MIN%</th>\n",
       "      <th>USG%</th>\n",
       "      <th>TO%</th>\n",
       "      <th>FTA</th>\n",
       "      <th>...</th>\n",
       "      <th>RPG</th>\n",
       "      <th>TRB%</th>\n",
       "      <th>APG</th>\n",
       "      <th>AST%</th>\n",
       "      <th>SPG</th>\n",
       "      <th>BPG</th>\n",
       "      <th>TOPG</th>\n",
       "      <th>VIVersatility</th>\n",
       "      <th>ORTG</th>\n",
       "      <th>DRTG</th>\n",
       "    </tr>\n",
       "  </thead>\n",
       "  <tbody>\n",
       "    <tr>\n",
       "      <th>0</th>\n",
       "      <td>FULL NAME</td>\n",
       "      <td>TEAM</td>\n",
       "      <td>POS</td>\n",
       "      <td>AGE</td>\n",
       "      <td>GP</td>\n",
       "      <td>MPG</td>\n",
       "      <td>MIN%Minutes PercentagePercentage of team minut...</td>\n",
       "      <td>USG%Usage RateUsage rate, a.k.a., usage percen...</td>\n",
       "      <td>TO%Turnover RateA metric that estimates the nu...</td>\n",
       "      <td>FTA</td>\n",
       "      <td>...</td>\n",
       "      <td>RPGReboundsRebounds per game.</td>\n",
       "      <td>TRB%Total Rebound PercentageTotal rebound perc...</td>\n",
       "      <td>APGAssistsAssists per game.</td>\n",
       "      <td>AST%Assist PercentageAssist percentage is an e...</td>\n",
       "      <td>SPGStealsSteals per game.</td>\n",
       "      <td>BPGBlocksBlocks per game.</td>\n",
       "      <td>TOPGTurnoversTurnovers per game.</td>\n",
       "      <td>VIVersatility IndexVersatility index is a metr...</td>\n",
       "      <td>ORTGOffensive RatingIndividual offensive ratin...</td>\n",
       "      <td>DRTGDefensive RatingIndividual defensive ratin...</td>\n",
       "    </tr>\n",
       "    <tr>\n",
       "      <th>1</th>\n",
       "      <td>Steven Adams</td>\n",
       "      <td>Okc</td>\n",
       "      <td>C</td>\n",
       "      <td>27.07</td>\n",
       "      <td>63</td>\n",
       "      <td>26.7</td>\n",
       "      <td>55.6</td>\n",
       "      <td>17.3</td>\n",
       "      <td>14.4</td>\n",
       "      <td>201</td>\n",
       "      <td>...</td>\n",
       "      <td>9.3</td>\n",
       "      <td>19.2</td>\n",
       "      <td>2.3</td>\n",
       "      <td>13.2</td>\n",
       "      <td>0.81</td>\n",
       "      <td>1.06</td>\n",
       "      <td>1.51</td>\n",
       "      <td>9.2</td>\n",
       "      <td>122</td>\n",
       "      <td>101.9</td>\n",
       "    </tr>\n",
       "    <tr>\n",
       "      <th>2</th>\n",
       "      <td>Bam Adebayo</td>\n",
       "      <td>Mia</td>\n",
       "      <td>C-F</td>\n",
       "      <td>23.08</td>\n",
       "      <td>72</td>\n",
       "      <td>33.6</td>\n",
       "      <td>69.9</td>\n",
       "      <td>21.2</td>\n",
       "      <td>17.5</td>\n",
       "      <td>382</td>\n",
       "      <td>...</td>\n",
       "      <td>10.2</td>\n",
       "      <td>17</td>\n",
       "      <td>5.1</td>\n",
       "      <td>24.2</td>\n",
       "      <td>1.14</td>\n",
       "      <td>1.29</td>\n",
       "      <td>2.82</td>\n",
       "      <td>11.2</td>\n",
       "      <td>116.2</td>\n",
       "      <td>102.2</td>\n",
       "    </tr>\n",
       "    <tr>\n",
       "      <th>3</th>\n",
       "      <td>LaMarcus Aldridge</td>\n",
       "      <td>San</td>\n",
       "      <td>F-C</td>\n",
       "      <td>35.07</td>\n",
       "      <td>53</td>\n",
       "      <td>33.1</td>\n",
       "      <td>68.9</td>\n",
       "      <td>23.4</td>\n",
       "      <td>7.8</td>\n",
       "      <td>191</td>\n",
       "      <td>...</td>\n",
       "      <td>7.4</td>\n",
       "      <td>12</td>\n",
       "      <td>2.4</td>\n",
       "      <td>11.4</td>\n",
       "      <td>0.68</td>\n",
       "      <td>1.64</td>\n",
       "      <td>1.4</td>\n",
       "      <td>8.4</td>\n",
       "      <td>114.7</td>\n",
       "      <td>109.1</td>\n",
       "    </tr>\n",
       "    <tr>\n",
       "      <th>4</th>\n",
       "      <td>Kyle Alexander</td>\n",
       "      <td>Mia</td>\n",
       "      <td>F-C</td>\n",
       "      <td>23.81</td>\n",
       "      <td>2</td>\n",
       "      <td>6.7</td>\n",
       "      <td>14</td>\n",
       "      <td>9.9</td>\n",
       "      <td>33.3</td>\n",
       "      <td>0</td>\n",
       "      <td>...</td>\n",
       "      <td>1.5</td>\n",
       "      <td>12.5</td>\n",
       "      <td>0</td>\n",
       "      <td>0</td>\n",
       "      <td>0</td>\n",
       "      <td>0</td>\n",
       "      <td>0.5</td>\n",
       "      <td>0</td>\n",
       "      <td>96</td>\n",
       "      <td>108.8</td>\n",
       "    </tr>\n",
       "  </tbody>\n",
       "</table>\n",
       "<p>5 rows × 28 columns</p>\n",
       "</div>"
      ],
      "text/plain": [
       "           FULL NAME  TEAM  POS    AGE  GP   MPG  \\\n",
       "0          FULL NAME  TEAM  POS    AGE  GP   MPG   \n",
       "1       Steven Adams   Okc    C  27.07  63  26.7   \n",
       "2        Bam Adebayo   Mia  C-F  23.08  72  33.6   \n",
       "3  LaMarcus Aldridge   San  F-C  35.07  53  33.1   \n",
       "4     Kyle Alexander   Mia  F-C  23.81   2   6.7   \n",
       "\n",
       "                                                MIN%  \\\n",
       "0  MIN%Minutes PercentagePercentage of team minut...   \n",
       "1                                               55.6   \n",
       "2                                               69.9   \n",
       "3                                               68.9   \n",
       "4                                                 14   \n",
       "\n",
       "                                                USG%  \\\n",
       "0  USG%Usage RateUsage rate, a.k.a., usage percen...   \n",
       "1                                               17.3   \n",
       "2                                               21.2   \n",
       "3                                               23.4   \n",
       "4                                                9.9   \n",
       "\n",
       "                                                 TO%  FTA  ...  \\\n",
       "0  TO%Turnover RateA metric that estimates the nu...  FTA  ...   \n",
       "1                                               14.4  201  ...   \n",
       "2                                               17.5  382  ...   \n",
       "3                                                7.8  191  ...   \n",
       "4                                               33.3    0  ...   \n",
       "\n",
       "                             RPG  \\\n",
       "0  RPGReboundsRebounds per game.   \n",
       "1                            9.3   \n",
       "2                           10.2   \n",
       "3                            7.4   \n",
       "4                            1.5   \n",
       "\n",
       "                                                TRB%  \\\n",
       "0  TRB%Total Rebound PercentageTotal rebound perc...   \n",
       "1                                               19.2   \n",
       "2                                                 17   \n",
       "3                                                 12   \n",
       "4                                               12.5   \n",
       "\n",
       "                           APG  \\\n",
       "0  APGAssistsAssists per game.   \n",
       "1                          2.3   \n",
       "2                          5.1   \n",
       "3                          2.4   \n",
       "4                            0   \n",
       "\n",
       "                                                AST%  \\\n",
       "0  AST%Assist PercentageAssist percentage is an e...   \n",
       "1                                               13.2   \n",
       "2                                               24.2   \n",
       "3                                               11.4   \n",
       "4                                                  0   \n",
       "\n",
       "                         SPG                        BPG  \\\n",
       "0  SPGStealsSteals per game.  BPGBlocksBlocks per game.   \n",
       "1                       0.81                       1.06   \n",
       "2                       1.14                       1.29   \n",
       "3                       0.68                       1.64   \n",
       "4                          0                          0   \n",
       "\n",
       "                               TOPG  \\\n",
       "0  TOPGTurnoversTurnovers per game.   \n",
       "1                              1.51   \n",
       "2                              2.82   \n",
       "3                               1.4   \n",
       "4                               0.5   \n",
       "\n",
       "                                       VIVersatility  \\\n",
       "0  VIVersatility IndexVersatility index is a metr...   \n",
       "1                                                9.2   \n",
       "2                                               11.2   \n",
       "3                                                8.4   \n",
       "4                                                  0   \n",
       "\n",
       "                                                ORTG  \\\n",
       "0  ORTGOffensive RatingIndividual offensive ratin...   \n",
       "1                                                122   \n",
       "2                                              116.2   \n",
       "3                                              114.7   \n",
       "4                                                 96   \n",
       "\n",
       "                                                DRTG  \n",
       "0  DRTGDefensive RatingIndividual defensive ratin...  \n",
       "1                                              101.9  \n",
       "2                                              102.2  \n",
       "3                                              109.1  \n",
       "4                                              108.8  \n",
       "\n",
       "[5 rows x 28 columns]"
      ]
     },
     "execution_count": 601,
     "metadata": {},
     "output_type": "execute_result"
    }
   ],
   "source": [
    "#check to see if the columns were renamed correctly and if the first column was dropped\n",
    "new_df.head()"
   ]
  },
  {
   "cell_type": "code",
   "execution_count": 602,
   "metadata": {
    "scrolled": true
   },
   "outputs": [
    {
     "data": {
      "text/html": [
       "<div>\n",
       "<style scoped>\n",
       "    .dataframe tbody tr th:only-of-type {\n",
       "        vertical-align: middle;\n",
       "    }\n",
       "\n",
       "    .dataframe tbody tr th {\n",
       "        vertical-align: top;\n",
       "    }\n",
       "\n",
       "    .dataframe thead th {\n",
       "        text-align: right;\n",
       "    }\n",
       "</style>\n",
       "<table border=\"1\" class=\"dataframe\">\n",
       "  <thead>\n",
       "    <tr style=\"text-align: right;\">\n",
       "      <th></th>\n",
       "      <th>player_id</th>\n",
       "      <th>name_common</th>\n",
       "      <th>year_id</th>\n",
       "      <th>age</th>\n",
       "      <th>pos</th>\n",
       "      <th>team_id</th>\n",
       "      <th>tmRtg</th>\n",
       "      <th>franch_id</th>\n",
       "      <th>G</th>\n",
       "      <th>Min</th>\n",
       "      <th>...</th>\n",
       "      <th>STL%</th>\n",
       "      <th>BLK%</th>\n",
       "      <th>ORtg</th>\n",
       "      <th>%Pos</th>\n",
       "      <th>DRtg</th>\n",
       "      <th>2P%</th>\n",
       "      <th>3P%</th>\n",
       "      <th>FT%</th>\n",
       "      <th>3PAr</th>\n",
       "      <th>FTAr</th>\n",
       "    </tr>\n",
       "  </thead>\n",
       "  <tbody>\n",
       "    <tr>\n",
       "      <th>0</th>\n",
       "      <td>youngtr01</td>\n",
       "      <td>Trae Young</td>\n",
       "      <td>2020</td>\n",
       "      <td>21</td>\n",
       "      <td>PG</td>\n",
       "      <td>ATL</td>\n",
       "      <td>-7.6</td>\n",
       "      <td>ATL</td>\n",
       "      <td>60</td>\n",
       "      <td>2120</td>\n",
       "      <td>...</td>\n",
       "      <td>1.4</td>\n",
       "      <td>0.3</td>\n",
       "      <td>113.6</td>\n",
       "      <td>36.1</td>\n",
       "      <td>117.2</td>\n",
       "      <td>50.1</td>\n",
       "      <td>36.1</td>\n",
       "      <td>86.0</td>\n",
       "      <td>45.5</td>\n",
       "      <td>44.8</td>\n",
       "    </tr>\n",
       "    <tr>\n",
       "      <th>1</th>\n",
       "      <td>huntede01</td>\n",
       "      <td>De'Andre Hunter</td>\n",
       "      <td>2020</td>\n",
       "      <td>22</td>\n",
       "      <td>SF</td>\n",
       "      <td>ATL</td>\n",
       "      <td>-7.6</td>\n",
       "      <td>ATL</td>\n",
       "      <td>63</td>\n",
       "      <td>2018</td>\n",
       "      <td>...</td>\n",
       "      <td>1.0</td>\n",
       "      <td>0.7</td>\n",
       "      <td>99.5</td>\n",
       "      <td>16.9</td>\n",
       "      <td>117.3</td>\n",
       "      <td>45.4</td>\n",
       "      <td>35.5</td>\n",
       "      <td>76.4</td>\n",
       "      <td>44.5</td>\n",
       "      <td>21.1</td>\n",
       "    </tr>\n",
       "    <tr>\n",
       "      <th>2</th>\n",
       "      <td>huertke01</td>\n",
       "      <td>Kevin Huerter</td>\n",
       "      <td>2020</td>\n",
       "      <td>21</td>\n",
       "      <td>SG</td>\n",
       "      <td>ATL</td>\n",
       "      <td>-7.6</td>\n",
       "      <td>ATL</td>\n",
       "      <td>56</td>\n",
       "      <td>1760</td>\n",
       "      <td>...</td>\n",
       "      <td>1.4</td>\n",
       "      <td>1.3</td>\n",
       "      <td>107.1</td>\n",
       "      <td>17.2</td>\n",
       "      <td>116.5</td>\n",
       "      <td>45.3</td>\n",
       "      <td>38.0</td>\n",
       "      <td>82.8</td>\n",
       "      <td>54.8</td>\n",
       "      <td>10.5</td>\n",
       "    </tr>\n",
       "    <tr>\n",
       "      <th>3</th>\n",
       "      <td>reddica01</td>\n",
       "      <td>Cam Reddish</td>\n",
       "      <td>2020</td>\n",
       "      <td>20</td>\n",
       "      <td>SF</td>\n",
       "      <td>ATL</td>\n",
       "      <td>-7.6</td>\n",
       "      <td>ATL</td>\n",
       "      <td>58</td>\n",
       "      <td>1551</td>\n",
       "      <td>...</td>\n",
       "      <td>1.9</td>\n",
       "      <td>1.5</td>\n",
       "      <td>94.7</td>\n",
       "      <td>18.3</td>\n",
       "      <td>115.0</td>\n",
       "      <td>42.8</td>\n",
       "      <td>33.2</td>\n",
       "      <td>80.2</td>\n",
       "      <td>45.1</td>\n",
       "      <td>22.7</td>\n",
       "    </tr>\n",
       "    <tr>\n",
       "      <th>4</th>\n",
       "      <td>collijo01</td>\n",
       "      <td>John Collins</td>\n",
       "      <td>2020</td>\n",
       "      <td>22</td>\n",
       "      <td>PF</td>\n",
       "      <td>ATL</td>\n",
       "      <td>-7.6</td>\n",
       "      <td>ATL</td>\n",
       "      <td>41</td>\n",
       "      <td>1363</td>\n",
       "      <td>...</td>\n",
       "      <td>1.1</td>\n",
       "      <td>4.1</td>\n",
       "      <td>123.7</td>\n",
       "      <td>21.6</td>\n",
       "      <td>112.2</td>\n",
       "      <td>64.2</td>\n",
       "      <td>40.1</td>\n",
       "      <td>80.0</td>\n",
       "      <td>24.3</td>\n",
       "      <td>24.8</td>\n",
       "    </tr>\n",
       "  </tbody>\n",
       "</table>\n",
       "<p>5 rows × 40 columns</p>\n",
       "</div>"
      ],
      "text/plain": [
       "   player_id      name_common  year_id  age pos team_id  tmRtg franch_id   G  \\\n",
       "0  youngtr01       Trae Young     2020   21  PG     ATL   -7.6       ATL  60   \n",
       "1  huntede01  De'Andre Hunter     2020   22  SF     ATL   -7.6       ATL  63   \n",
       "2  huertke01    Kevin Huerter     2020   21  SG     ATL   -7.6       ATL  56   \n",
       "3  reddica01      Cam Reddish     2020   20  SF     ATL   -7.6       ATL  58   \n",
       "4  collijo01     John Collins     2020   22  PF     ATL   -7.6       ATL  41   \n",
       "\n",
       "    Min  ...  STL%  BLK%   ORtg  %Pos   DRtg   2P%   3P%   FT%  3PAr  FTAr  \n",
       "0  2120  ...   1.4   0.3  113.6  36.1  117.2  50.1  36.1  86.0  45.5  44.8  \n",
       "1  2018  ...   1.0   0.7   99.5  16.9  117.3  45.4  35.5  76.4  44.5  21.1  \n",
       "2  1760  ...   1.4   1.3  107.1  17.2  116.5  45.3  38.0  82.8  54.8  10.5  \n",
       "3  1551  ...   1.9   1.5   94.7  18.3  115.0  42.8  33.2  80.2  45.1  22.7  \n",
       "4  1363  ...   1.1   4.1  123.7  21.6  112.2  64.2  40.1  80.0  24.3  24.8  \n",
       "\n",
       "[5 rows x 40 columns]"
      ]
     },
     "execution_count": 602,
     "metadata": {},
     "output_type": "execute_result"
    }
   ],
   "source": [
    "#second dataset includes data from 1977 to 2020. This dataset include more advanced statistics\n",
    "df2 = pd.read_csv(\"nba_data_historical.csv\")\n",
    "df2.head()"
   ]
  },
  {
   "cell_type": "code",
   "execution_count": 603,
   "metadata": {},
   "outputs": [
    {
     "data": {
      "text/html": [
       "<div>\n",
       "<style scoped>\n",
       "    .dataframe tbody tr th:only-of-type {\n",
       "        vertical-align: middle;\n",
       "    }\n",
       "\n",
       "    .dataframe tbody tr th {\n",
       "        vertical-align: top;\n",
       "    }\n",
       "\n",
       "    .dataframe thead th {\n",
       "        text-align: right;\n",
       "    }\n",
       "</style>\n",
       "<table border=\"1\" class=\"dataframe\">\n",
       "  <thead>\n",
       "    <tr style=\"text-align: right;\">\n",
       "      <th></th>\n",
       "      <th>player_id</th>\n",
       "      <th>name_common</th>\n",
       "      <th>year_id</th>\n",
       "      <th>age</th>\n",
       "      <th>pos</th>\n",
       "      <th>team_id</th>\n",
       "      <th>tmRtg</th>\n",
       "      <th>franch_id</th>\n",
       "      <th>G</th>\n",
       "      <th>Min</th>\n",
       "      <th>...</th>\n",
       "      <th>STL%</th>\n",
       "      <th>BLK%</th>\n",
       "      <th>ORtg</th>\n",
       "      <th>%Pos</th>\n",
       "      <th>DRtg</th>\n",
       "      <th>2P%</th>\n",
       "      <th>3P%</th>\n",
       "      <th>FT%</th>\n",
       "      <th>3PAr</th>\n",
       "      <th>FTAr</th>\n",
       "    </tr>\n",
       "  </thead>\n",
       "  <tbody>\n",
       "    <tr>\n",
       "      <th>0</th>\n",
       "      <td>youngtr01</td>\n",
       "      <td>Trae Young</td>\n",
       "      <td>2020</td>\n",
       "      <td>21</td>\n",
       "      <td>PG</td>\n",
       "      <td>ATL</td>\n",
       "      <td>-7.6</td>\n",
       "      <td>ATL</td>\n",
       "      <td>60</td>\n",
       "      <td>2120</td>\n",
       "      <td>...</td>\n",
       "      <td>1.4</td>\n",
       "      <td>0.3</td>\n",
       "      <td>113.6</td>\n",
       "      <td>36.1</td>\n",
       "      <td>117.2</td>\n",
       "      <td>50.1</td>\n",
       "      <td>36.1</td>\n",
       "      <td>86.0</td>\n",
       "      <td>45.5</td>\n",
       "      <td>44.8</td>\n",
       "    </tr>\n",
       "    <tr>\n",
       "      <th>1</th>\n",
       "      <td>huntede01</td>\n",
       "      <td>De'Andre Hunter</td>\n",
       "      <td>2020</td>\n",
       "      <td>22</td>\n",
       "      <td>SF</td>\n",
       "      <td>ATL</td>\n",
       "      <td>-7.6</td>\n",
       "      <td>ATL</td>\n",
       "      <td>63</td>\n",
       "      <td>2018</td>\n",
       "      <td>...</td>\n",
       "      <td>1.0</td>\n",
       "      <td>0.7</td>\n",
       "      <td>99.5</td>\n",
       "      <td>16.9</td>\n",
       "      <td>117.3</td>\n",
       "      <td>45.4</td>\n",
       "      <td>35.5</td>\n",
       "      <td>76.4</td>\n",
       "      <td>44.5</td>\n",
       "      <td>21.1</td>\n",
       "    </tr>\n",
       "    <tr>\n",
       "      <th>2</th>\n",
       "      <td>huertke01</td>\n",
       "      <td>Kevin Huerter</td>\n",
       "      <td>2020</td>\n",
       "      <td>21</td>\n",
       "      <td>SG</td>\n",
       "      <td>ATL</td>\n",
       "      <td>-7.6</td>\n",
       "      <td>ATL</td>\n",
       "      <td>56</td>\n",
       "      <td>1760</td>\n",
       "      <td>...</td>\n",
       "      <td>1.4</td>\n",
       "      <td>1.3</td>\n",
       "      <td>107.1</td>\n",
       "      <td>17.2</td>\n",
       "      <td>116.5</td>\n",
       "      <td>45.3</td>\n",
       "      <td>38.0</td>\n",
       "      <td>82.8</td>\n",
       "      <td>54.8</td>\n",
       "      <td>10.5</td>\n",
       "    </tr>\n",
       "    <tr>\n",
       "      <th>3</th>\n",
       "      <td>reddica01</td>\n",
       "      <td>Cam Reddish</td>\n",
       "      <td>2020</td>\n",
       "      <td>20</td>\n",
       "      <td>SF</td>\n",
       "      <td>ATL</td>\n",
       "      <td>-7.6</td>\n",
       "      <td>ATL</td>\n",
       "      <td>58</td>\n",
       "      <td>1551</td>\n",
       "      <td>...</td>\n",
       "      <td>1.9</td>\n",
       "      <td>1.5</td>\n",
       "      <td>94.7</td>\n",
       "      <td>18.3</td>\n",
       "      <td>115.0</td>\n",
       "      <td>42.8</td>\n",
       "      <td>33.2</td>\n",
       "      <td>80.2</td>\n",
       "      <td>45.1</td>\n",
       "      <td>22.7</td>\n",
       "    </tr>\n",
       "    <tr>\n",
       "      <th>4</th>\n",
       "      <td>collijo01</td>\n",
       "      <td>John Collins</td>\n",
       "      <td>2020</td>\n",
       "      <td>22</td>\n",
       "      <td>PF</td>\n",
       "      <td>ATL</td>\n",
       "      <td>-7.6</td>\n",
       "      <td>ATL</td>\n",
       "      <td>41</td>\n",
       "      <td>1363</td>\n",
       "      <td>...</td>\n",
       "      <td>1.1</td>\n",
       "      <td>4.1</td>\n",
       "      <td>123.7</td>\n",
       "      <td>21.6</td>\n",
       "      <td>112.2</td>\n",
       "      <td>64.2</td>\n",
       "      <td>40.1</td>\n",
       "      <td>80.0</td>\n",
       "      <td>24.3</td>\n",
       "      <td>24.8</td>\n",
       "    </tr>\n",
       "  </tbody>\n",
       "</table>\n",
       "<p>5 rows × 40 columns</p>\n",
       "</div>"
      ],
      "text/plain": [
       "   player_id      name_common  year_id  age pos team_id  tmRtg franch_id   G  \\\n",
       "0  youngtr01       Trae Young     2020   21  PG     ATL   -7.6       ATL  60   \n",
       "1  huntede01  De'Andre Hunter     2020   22  SF     ATL   -7.6       ATL  63   \n",
       "2  huertke01    Kevin Huerter     2020   21  SG     ATL   -7.6       ATL  56   \n",
       "3  reddica01      Cam Reddish     2020   20  SF     ATL   -7.6       ATL  58   \n",
       "4  collijo01     John Collins     2020   22  PF     ATL   -7.6       ATL  41   \n",
       "\n",
       "    Min  ...  STL%  BLK%   ORtg  %Pos   DRtg   2P%   3P%   FT%  3PAr  FTAr  \n",
       "0  2120  ...   1.4   0.3  113.6  36.1  117.2  50.1  36.1  86.0  45.5  44.8  \n",
       "1  2018  ...   1.0   0.7   99.5  16.9  117.3  45.4  35.5  76.4  44.5  21.1  \n",
       "2  1760  ...   1.4   1.3  107.1  17.2  116.5  45.3  38.0  82.8  54.8  10.5  \n",
       "3  1551  ...   1.9   1.5   94.7  18.3  115.0  42.8  33.2  80.2  45.1  22.7  \n",
       "4  1363  ...   1.1   4.1  123.7  21.6  112.2  64.2  40.1  80.0  24.3  24.8  \n",
       "\n",
       "[5 rows x 40 columns]"
      ]
     },
     "execution_count": 603,
     "metadata": {},
     "output_type": "execute_result"
    }
   ],
   "source": [
    "#querying the second dataset because it includes statistics from 1977 to 2020. We only want 2020 statistics so we are \n",
    "#querying the data to only include that\n",
    "df2_q = \"year_id == '2020'\"\n",
    "new_df2 = df2.query(df2_q)\n",
    "new_df2.head()"
   ]
  },
  {
   "cell_type": "code",
   "execution_count": 604,
   "metadata": {},
   "outputs": [
    {
     "data": {
      "text/html": [
       "<div>\n",
       "<style scoped>\n",
       "    .dataframe tbody tr th:only-of-type {\n",
       "        vertical-align: middle;\n",
       "    }\n",
       "\n",
       "    .dataframe tbody tr th {\n",
       "        vertical-align: top;\n",
       "    }\n",
       "\n",
       "    .dataframe thead th {\n",
       "        text-align: right;\n",
       "    }\n",
       "</style>\n",
       "<table border=\"1\" class=\"dataframe\">\n",
       "  <thead>\n",
       "    <tr style=\"text-align: right;\">\n",
       "      <th></th>\n",
       "      <th>FULL NAME</th>\n",
       "      <th>TEAM</th>\n",
       "      <th>POS</th>\n",
       "      <th>AGE</th>\n",
       "      <th>GP</th>\n",
       "      <th>MPG_x</th>\n",
       "      <th>MIN%</th>\n",
       "      <th>USG%_x</th>\n",
       "      <th>TO%</th>\n",
       "      <th>FTA</th>\n",
       "      <th>...</th>\n",
       "      <th>STL%</th>\n",
       "      <th>BLK%</th>\n",
       "      <th>ORtg</th>\n",
       "      <th>%Pos</th>\n",
       "      <th>DRtg</th>\n",
       "      <th>2P%_y</th>\n",
       "      <th>3P%_y</th>\n",
       "      <th>FT%_y</th>\n",
       "      <th>3PAr</th>\n",
       "      <th>FTAr</th>\n",
       "    </tr>\n",
       "  </thead>\n",
       "  <tbody>\n",
       "    <tr>\n",
       "      <th>0</th>\n",
       "      <td>Steven Adams</td>\n",
       "      <td>Okc</td>\n",
       "      <td>C</td>\n",
       "      <td>27.07</td>\n",
       "      <td>63</td>\n",
       "      <td>26.7</td>\n",
       "      <td>55.6</td>\n",
       "      <td>17.3</td>\n",
       "      <td>14.4</td>\n",
       "      <td>201</td>\n",
       "      <td>...</td>\n",
       "      <td>1.6</td>\n",
       "      <td>3.5</td>\n",
       "      <td>123.0</td>\n",
       "      <td>19.0</td>\n",
       "      <td>105.8</td>\n",
       "      <td>59.3</td>\n",
       "      <td>33.3</td>\n",
       "      <td>59.0</td>\n",
       "      <td>0.7</td>\n",
       "      <td>41.3</td>\n",
       "    </tr>\n",
       "    <tr>\n",
       "      <th>1</th>\n",
       "      <td>Bam Adebayo</td>\n",
       "      <td>Mia</td>\n",
       "      <td>C-F</td>\n",
       "      <td>23.08</td>\n",
       "      <td>72</td>\n",
       "      <td>33.6</td>\n",
       "      <td>69.9</td>\n",
       "      <td>21.2</td>\n",
       "      <td>17.5</td>\n",
       "      <td>382</td>\n",
       "      <td>...</td>\n",
       "      <td>1.7</td>\n",
       "      <td>3.8</td>\n",
       "      <td>117.3</td>\n",
       "      <td>22.3</td>\n",
       "      <td>105.6</td>\n",
       "      <td>57.6</td>\n",
       "      <td>7.7</td>\n",
       "      <td>69.0</td>\n",
       "      <td>1.8</td>\n",
       "      <td>47.6</td>\n",
       "    </tr>\n",
       "    <tr>\n",
       "      <th>2</th>\n",
       "      <td>LaMarcus Aldridge</td>\n",
       "      <td>San</td>\n",
       "      <td>F-C</td>\n",
       "      <td>35.07</td>\n",
       "      <td>53</td>\n",
       "      <td>33.1</td>\n",
       "      <td>68.9</td>\n",
       "      <td>23.4</td>\n",
       "      <td>7.8</td>\n",
       "      <td>191</td>\n",
       "      <td>...</td>\n",
       "      <td>1.0</td>\n",
       "      <td>4.4</td>\n",
       "      <td>114.6</td>\n",
       "      <td>22.9</td>\n",
       "      <td>112.5</td>\n",
       "      <td>51.9</td>\n",
       "      <td>38.9</td>\n",
       "      <td>82.7</td>\n",
       "      <td>19.8</td>\n",
       "      <td>24.1</td>\n",
       "    </tr>\n",
       "    <tr>\n",
       "      <th>3</th>\n",
       "      <td>Nickeil Alexander-Walker</td>\n",
       "      <td>Nor</td>\n",
       "      <td>G</td>\n",
       "      <td>21.95</td>\n",
       "      <td>47</td>\n",
       "      <td>12.6</td>\n",
       "      <td>26.2</td>\n",
       "      <td>23.3</td>\n",
       "      <td>16.1</td>\n",
       "      <td>37</td>\n",
       "      <td>...</td>\n",
       "      <td>1.0</td>\n",
       "      <td>1.2</td>\n",
       "      <td>90.9</td>\n",
       "      <td>22.7</td>\n",
       "      <td>113.2</td>\n",
       "      <td>33.6</td>\n",
       "      <td>34.2</td>\n",
       "      <td>60.7</td>\n",
       "      <td>51.5</td>\n",
       "      <td>12.3</td>\n",
       "    </tr>\n",
       "    <tr>\n",
       "      <th>4</th>\n",
       "      <td>Grayson Allen</td>\n",
       "      <td>Mem</td>\n",
       "      <td>G</td>\n",
       "      <td>24.85</td>\n",
       "      <td>38</td>\n",
       "      <td>18.9</td>\n",
       "      <td>39.4</td>\n",
       "      <td>17.6</td>\n",
       "      <td>10.9</td>\n",
       "      <td>45</td>\n",
       "      <td>...</td>\n",
       "      <td>0.6</td>\n",
       "      <td>0.2</td>\n",
       "      <td>111.1</td>\n",
       "      <td>17.0</td>\n",
       "      <td>114.9</td>\n",
       "      <td>54.1</td>\n",
       "      <td>36.3</td>\n",
       "      <td>85.7</td>\n",
       "      <td>51.7</td>\n",
       "      <td>19.9</td>\n",
       "    </tr>\n",
       "    <tr>\n",
       "      <th>...</th>\n",
       "      <td>...</td>\n",
       "      <td>...</td>\n",
       "      <td>...</td>\n",
       "      <td>...</td>\n",
       "      <td>...</td>\n",
       "      <td>...</td>\n",
       "      <td>...</td>\n",
       "      <td>...</td>\n",
       "      <td>...</td>\n",
       "      <td>...</td>\n",
       "      <td>...</td>\n",
       "      <td>...</td>\n",
       "      <td>...</td>\n",
       "      <td>...</td>\n",
       "      <td>...</td>\n",
       "      <td>...</td>\n",
       "      <td>...</td>\n",
       "      <td>...</td>\n",
       "      <td>...</td>\n",
       "      <td>...</td>\n",
       "      <td>...</td>\n",
       "    </tr>\n",
       "    <tr>\n",
       "      <th>625</th>\n",
       "      <td>Justin Wright-Foreman</td>\n",
       "      <td>Uta</td>\n",
       "      <td>G</td>\n",
       "      <td>22.8</td>\n",
       "      <td>4</td>\n",
       "      <td>11.3</td>\n",
       "      <td>23.5</td>\n",
       "      <td>23.9</td>\n",
       "      <td>12.1</td>\n",
       "      <td>4</td>\n",
       "      <td>...</td>\n",
       "      <td>0.0</td>\n",
       "      <td>0.0</td>\n",
       "      <td>NaN</td>\n",
       "      <td>NaN</td>\n",
       "      <td>117.5</td>\n",
       "      <td>NaN</td>\n",
       "      <td>NaN</td>\n",
       "      <td>NaN</td>\n",
       "      <td>NaN</td>\n",
       "      <td>NaN</td>\n",
       "    </tr>\n",
       "    <tr>\n",
       "      <th>626</th>\n",
       "      <td>Thaddeus Young</td>\n",
       "      <td>Chi</td>\n",
       "      <td>F</td>\n",
       "      <td>32.15</td>\n",
       "      <td>64</td>\n",
       "      <td>24.9</td>\n",
       "      <td>51.8</td>\n",
       "      <td>19.7</td>\n",
       "      <td>13.9</td>\n",
       "      <td>72</td>\n",
       "      <td>...</td>\n",
       "      <td>2.8</td>\n",
       "      <td>1.4</td>\n",
       "      <td>100.7</td>\n",
       "      <td>19.6</td>\n",
       "      <td>108.1</td>\n",
       "      <td>50.1</td>\n",
       "      <td>35.6</td>\n",
       "      <td>58.3</td>\n",
       "      <td>36.9</td>\n",
       "      <td>12.0</td>\n",
       "    </tr>\n",
       "    <tr>\n",
       "      <th>627</th>\n",
       "      <td>Trae Young</td>\n",
       "      <td>Atl</td>\n",
       "      <td>G</td>\n",
       "      <td>21.9</td>\n",
       "      <td>60</td>\n",
       "      <td>35.3</td>\n",
       "      <td>73.6</td>\n",
       "      <td>34.9</td>\n",
       "      <td>16.2</td>\n",
       "      <td>559</td>\n",
       "      <td>...</td>\n",
       "      <td>1.4</td>\n",
       "      <td>0.3</td>\n",
       "      <td>113.6</td>\n",
       "      <td>36.1</td>\n",
       "      <td>117.2</td>\n",
       "      <td>50.1</td>\n",
       "      <td>36.1</td>\n",
       "      <td>86.0</td>\n",
       "      <td>45.5</td>\n",
       "      <td>44.8</td>\n",
       "    </tr>\n",
       "    <tr>\n",
       "      <th>628</th>\n",
       "      <td>Cody Zeller</td>\n",
       "      <td>Cha</td>\n",
       "      <td>C</td>\n",
       "      <td>27.86</td>\n",
       "      <td>58</td>\n",
       "      <td>23.1</td>\n",
       "      <td>48.2</td>\n",
       "      <td>20.8</td>\n",
       "      <td>11.8</td>\n",
       "      <td>179</td>\n",
       "      <td>...</td>\n",
       "      <td>1.5</td>\n",
       "      <td>1.7</td>\n",
       "      <td>115.8</td>\n",
       "      <td>21.2</td>\n",
       "      <td>111.3</td>\n",
       "      <td>57.7</td>\n",
       "      <td>24.0</td>\n",
       "      <td>68.2</td>\n",
       "      <td>15.7</td>\n",
       "      <td>37.4</td>\n",
       "    </tr>\n",
       "    <tr>\n",
       "      <th>629</th>\n",
       "      <td>Ivica Zubac</td>\n",
       "      <td>Lac</td>\n",
       "      <td>C</td>\n",
       "      <td>23.41</td>\n",
       "      <td>72</td>\n",
       "      <td>18.4</td>\n",
       "      <td>38.4</td>\n",
       "      <td>16.4</td>\n",
       "      <td>11.7</td>\n",
       "      <td>166</td>\n",
       "      <td>...</td>\n",
       "      <td>0.5</td>\n",
       "      <td>4.6</td>\n",
       "      <td>131.8</td>\n",
       "      <td>17.5</td>\n",
       "      <td>104.6</td>\n",
       "      <td>60.5</td>\n",
       "      <td>0.0</td>\n",
       "      <td>75.9</td>\n",
       "      <td>0.6</td>\n",
       "      <td>42.0</td>\n",
       "    </tr>\n",
       "  </tbody>\n",
       "</table>\n",
       "<p>630 rows × 68 columns</p>\n",
       "</div>"
      ],
      "text/plain": [
       "                    FULL NAME TEAM  POS    AGE  GP MPG_x  MIN% USG%_x   TO%  \\\n",
       "0                Steven Adams  Okc    C  27.07  63  26.7  55.6   17.3  14.4   \n",
       "1                 Bam Adebayo  Mia  C-F  23.08  72  33.6  69.9   21.2  17.5   \n",
       "2           LaMarcus Aldridge  San  F-C  35.07  53  33.1  68.9   23.4   7.8   \n",
       "3    Nickeil Alexander-Walker  Nor    G  21.95  47  12.6  26.2   23.3  16.1   \n",
       "4               Grayson Allen  Mem    G  24.85  38  18.9  39.4   17.6  10.9   \n",
       "..                        ...  ...  ...    ...  ..   ...   ...    ...   ...   \n",
       "625     Justin Wright-Foreman  Uta    G   22.8   4  11.3  23.5   23.9  12.1   \n",
       "626            Thaddeus Young  Chi    F  32.15  64  24.9  51.8   19.7  13.9   \n",
       "627                Trae Young  Atl    G   21.9  60  35.3  73.6   34.9  16.2   \n",
       "628               Cody Zeller  Cha    C  27.86  58  23.1  48.2   20.8  11.8   \n",
       "629               Ivica Zubac  Lac    C  23.41  72  18.4  38.4   16.4  11.7   \n",
       "\n",
       "     FTA  ... STL% BLK%   ORtg  %Pos   DRtg 2P%_y 3P%_y FT%_y  3PAr  FTAr  \n",
       "0    201  ...  1.6  3.5  123.0  19.0  105.8  59.3  33.3  59.0   0.7  41.3  \n",
       "1    382  ...  1.7  3.8  117.3  22.3  105.6  57.6   7.7  69.0   1.8  47.6  \n",
       "2    191  ...  1.0  4.4  114.6  22.9  112.5  51.9  38.9  82.7  19.8  24.1  \n",
       "3     37  ...  1.0  1.2   90.9  22.7  113.2  33.6  34.2  60.7  51.5  12.3  \n",
       "4     45  ...  0.6  0.2  111.1  17.0  114.9  54.1  36.3  85.7  51.7  19.9  \n",
       "..   ...  ...  ...  ...    ...   ...    ...   ...   ...   ...   ...   ...  \n",
       "625    4  ...  0.0  0.0    NaN   NaN  117.5   NaN   NaN   NaN   NaN   NaN  \n",
       "626   72  ...  2.8  1.4  100.7  19.6  108.1  50.1  35.6  58.3  36.9  12.0  \n",
       "627  559  ...  1.4  0.3  113.6  36.1  117.2  50.1  36.1  86.0  45.5  44.8  \n",
       "628  179  ...  1.5  1.7  115.8  21.2  111.3  57.7  24.0  68.2  15.7  37.4  \n",
       "629  166  ...  0.5  4.6  131.8  17.5  104.6  60.5   0.0  75.9   0.6  42.0  \n",
       "\n",
       "[630 rows x 68 columns]"
      ]
     },
     "execution_count": 604,
     "metadata": {},
     "output_type": "execute_result"
    }
   ],
   "source": [
    "#merging the two datasets using an inner join and based on the common column of player names\n",
    "all_data = pd.merge(new_df, new_df2, how = 'inner', left_on = 'FULL NAME', right_on = 'name_common')\n",
    "all_data"
   ]
  },
  {
   "cell_type": "markdown",
   "metadata": {},
   "source": [
    "# Dropping and Renaming Columns"
   ]
  },
  {
   "cell_type": "code",
   "execution_count": 605,
   "metadata": {},
   "outputs": [
    {
     "data": {
      "text/plain": [
       "Index(['FULL NAME', 'TEAM', 'POS', 'AGE', 'GP', 'MPG_x', 'MIN%', 'USG%_x',\n",
       "       'TO%', 'FTA', 'FT%_x', '2PA', '2P%_x', '3PA', '3P%_x', 'eFG%', 'TS%_x',\n",
       "       'PPG', 'RPG', 'TRB%_x', 'APG', 'AST%_x', 'SPG', 'BPG', 'TOPG',\n",
       "       'VIVersatility', 'ORTG', 'DRTG', 'player_id', 'name_common', 'year_id',\n",
       "       'age', 'pos', 'team_id', 'tmRtg', 'franch_id', 'G', 'Min', 'MP%',\n",
       "       'MPG_y', 'P/36', 'TS%_y', 'A/36', 'R/36', 'SB/36', 'TO/36', 'Raptor O',\n",
       "       'Raptor D', 'Raptor+/-', 'Raptor WAR', 'PIE%', 'AWS%', 'USG%_y',\n",
       "       'AST%_y', 'TOV%', 'ORB%', 'DRB%', 'TRB%_y', 'STL%', 'BLK%', 'ORtg',\n",
       "       '%Pos', 'DRtg', '2P%_y', '3P%_y', 'FT%_y', '3PAr', 'FTAr'],\n",
       "      dtype='object')"
      ]
     },
     "execution_count": 605,
     "metadata": {},
     "output_type": "execute_result"
    }
   ],
   "source": [
    "#checking for data columns to drop\n",
    "all_data.columns"
   ]
  },
  {
   "cell_type": "code",
   "execution_count": 606,
   "metadata": {},
   "outputs": [],
   "source": [
    "all_new_data = all_data.drop(columns = ['MIN%', 'TO%', 'FTA', 'FT%_x', '2PA', '2P%_x', '3PA', '3P%_x', 'eFG%', 'TRB%_x',\n",
    "                                       'AST%_x', 'TOPG', 'player_id', 'name_common', 'year_id', 'age', 'pos', 'team_id',\n",
    "                                       'franch_id', 'G', 'Min', 'MP%', 'MPG_y', 'P/36', 'TS%_y', 'A/36', 'R/36', 'SB/36',\n",
    "                                       'TO/36', 'AWS%', 'USG%_y', 'AST%_y', 'TOV%', 'ORB%', \n",
    "                                       'DRB%', 'TRB%_y', 'STL%', 'BLK%', 'ORTG', 'DRTG','%Pos', '2P%_y', '3P%_y', \n",
    "                                       'FT%_y', '3PAr', 'FTAr', 'Raptor WAR'])\n",
    "#chose to drop these columns because they would not provide value. Many statistics were repeated or will not be used \n",
    "#as a predictor for our model"
   ]
  },
  {
   "cell_type": "code",
   "execution_count": 607,
   "metadata": {},
   "outputs": [
    {
     "data": {
      "text/plain": [
       "Index(['FULL NAME', 'TEAM', 'POS', 'AGE', 'GP', 'MPG_x', 'USG%_x', 'TS%_x',\n",
       "       'PPG', 'RPG', 'APG', 'SPG', 'BPG', 'VIVersatility', 'tmRtg', 'Raptor O',\n",
       "       'Raptor D', 'Raptor+/-', 'PIE%', 'ORtg', 'DRtg'],\n",
       "      dtype='object')"
      ]
     },
     "execution_count": 607,
     "metadata": {},
     "output_type": "execute_result"
    }
   ],
   "source": [
    "all_new_data.columns\n",
    "#checking to see if the columns were dropped"
   ]
  },
  {
   "cell_type": "code",
   "execution_count": 608,
   "metadata": {},
   "outputs": [
    {
     "data": {
      "text/html": [
       "<div>\n",
       "<style scoped>\n",
       "    .dataframe tbody tr th:only-of-type {\n",
       "        vertical-align: middle;\n",
       "    }\n",
       "\n",
       "    .dataframe tbody tr th {\n",
       "        vertical-align: top;\n",
       "    }\n",
       "\n",
       "    .dataframe thead th {\n",
       "        text-align: right;\n",
       "    }\n",
       "</style>\n",
       "<table border=\"1\" class=\"dataframe\">\n",
       "  <thead>\n",
       "    <tr style=\"text-align: right;\">\n",
       "      <th></th>\n",
       "      <th>FULL NAME</th>\n",
       "      <th>TEAM</th>\n",
       "      <th>POS</th>\n",
       "      <th>AGE</th>\n",
       "      <th>GP</th>\n",
       "      <th>MPG_x</th>\n",
       "      <th>USG%_x</th>\n",
       "      <th>TS%_x</th>\n",
       "      <th>PPG</th>\n",
       "      <th>RPG</th>\n",
       "      <th>...</th>\n",
       "      <th>SPG</th>\n",
       "      <th>BPG</th>\n",
       "      <th>VIVersatility</th>\n",
       "      <th>tmRtg</th>\n",
       "      <th>Raptor O</th>\n",
       "      <th>Raptor D</th>\n",
       "      <th>Raptor+/-</th>\n",
       "      <th>PIE%</th>\n",
       "      <th>ORtg</th>\n",
       "      <th>DRtg</th>\n",
       "    </tr>\n",
       "  </thead>\n",
       "  <tbody>\n",
       "    <tr>\n",
       "      <th>0</th>\n",
       "      <td>Steven Adams</td>\n",
       "      <td>Okc</td>\n",
       "      <td>C</td>\n",
       "      <td>27.07</td>\n",
       "      <td>63</td>\n",
       "      <td>26.7</td>\n",
       "      <td>17.3</td>\n",
       "      <td>0.604</td>\n",
       "      <td>10.9</td>\n",
       "      <td>9.3</td>\n",
       "      <td>...</td>\n",
       "      <td>0.81</td>\n",
       "      <td>1.06</td>\n",
       "      <td>9.2</td>\n",
       "      <td>2.5</td>\n",
       "      <td>1.0</td>\n",
       "      <td>1.2</td>\n",
       "      <td>2.2</td>\n",
       "      <td>13.9</td>\n",
       "      <td>123.0</td>\n",
       "      <td>105.8</td>\n",
       "    </tr>\n",
       "    <tr>\n",
       "      <th>1</th>\n",
       "      <td>Bam Adebayo</td>\n",
       "      <td>Mia</td>\n",
       "      <td>C-F</td>\n",
       "      <td>23.08</td>\n",
       "      <td>72</td>\n",
       "      <td>33.6</td>\n",
       "      <td>21.2</td>\n",
       "      <td>0.597</td>\n",
       "      <td>15.9</td>\n",
       "      <td>10.2</td>\n",
       "      <td>...</td>\n",
       "      <td>1.14</td>\n",
       "      <td>1.29</td>\n",
       "      <td>11.2</td>\n",
       "      <td>3.2</td>\n",
       "      <td>-0.5</td>\n",
       "      <td>2.0</td>\n",
       "      <td>1.5</td>\n",
       "      <td>15.0</td>\n",
       "      <td>117.3</td>\n",
       "      <td>105.6</td>\n",
       "    </tr>\n",
       "    <tr>\n",
       "      <th>2</th>\n",
       "      <td>LaMarcus Aldridge</td>\n",
       "      <td>San</td>\n",
       "      <td>F-C</td>\n",
       "      <td>35.07</td>\n",
       "      <td>53</td>\n",
       "      <td>33.1</td>\n",
       "      <td>23.4</td>\n",
       "      <td>0.57</td>\n",
       "      <td>18.9</td>\n",
       "      <td>7.4</td>\n",
       "      <td>...</td>\n",
       "      <td>0.68</td>\n",
       "      <td>1.64</td>\n",
       "      <td>8.4</td>\n",
       "      <td>-1.7</td>\n",
       "      <td>-0.8</td>\n",
       "      <td>0.7</td>\n",
       "      <td>-0.2</td>\n",
       "      <td>12.1</td>\n",
       "      <td>114.6</td>\n",
       "      <td>112.5</td>\n",
       "    </tr>\n",
       "    <tr>\n",
       "      <th>3</th>\n",
       "      <td>Nickeil Alexander-Walker</td>\n",
       "      <td>Nor</td>\n",
       "      <td>G</td>\n",
       "      <td>21.95</td>\n",
       "      <td>47</td>\n",
       "      <td>12.6</td>\n",
       "      <td>23.3</td>\n",
       "      <td>0.473</td>\n",
       "      <td>5.7</td>\n",
       "      <td>1.8</td>\n",
       "      <td>...</td>\n",
       "      <td>0.36</td>\n",
       "      <td>0.17</td>\n",
       "      <td>8.5</td>\n",
       "      <td>-0.8</td>\n",
       "      <td>-2.5</td>\n",
       "      <td>-1.9</td>\n",
       "      <td>-4.3</td>\n",
       "      <td>6.1</td>\n",
       "      <td>90.9</td>\n",
       "      <td>113.2</td>\n",
       "    </tr>\n",
       "    <tr>\n",
       "      <th>4</th>\n",
       "      <td>Grayson Allen</td>\n",
       "      <td>Mem</td>\n",
       "      <td>G</td>\n",
       "      <td>24.85</td>\n",
       "      <td>38</td>\n",
       "      <td>18.9</td>\n",
       "      <td>17.6</td>\n",
       "      <td>0.609</td>\n",
       "      <td>8.7</td>\n",
       "      <td>2.2</td>\n",
       "      <td>...</td>\n",
       "      <td>0.32</td>\n",
       "      <td>0.05</td>\n",
       "      <td>6.3</td>\n",
       "      <td>-1.0</td>\n",
       "      <td>-0.5</td>\n",
       "      <td>-1.8</td>\n",
       "      <td>-2.3</td>\n",
       "      <td>8.3</td>\n",
       "      <td>111.1</td>\n",
       "      <td>114.9</td>\n",
       "    </tr>\n",
       "  </tbody>\n",
       "</table>\n",
       "<p>5 rows × 21 columns</p>\n",
       "</div>"
      ],
      "text/plain": [
       "                  FULL NAME TEAM  POS    AGE  GP MPG_x USG%_x  TS%_x   PPG  \\\n",
       "0              Steven Adams  Okc    C  27.07  63  26.7   17.3  0.604  10.9   \n",
       "1               Bam Adebayo  Mia  C-F  23.08  72  33.6   21.2  0.597  15.9   \n",
       "2         LaMarcus Aldridge  San  F-C  35.07  53  33.1   23.4   0.57  18.9   \n",
       "3  Nickeil Alexander-Walker  Nor    G  21.95  47  12.6   23.3  0.473   5.7   \n",
       "4             Grayson Allen  Mem    G  24.85  38  18.9   17.6  0.609   8.7   \n",
       "\n",
       "    RPG  ...   SPG   BPG VIVersatility tmRtg  Raptor O  Raptor D  Raptor+/-  \\\n",
       "0   9.3  ...  0.81  1.06           9.2   2.5       1.0       1.2        2.2   \n",
       "1  10.2  ...  1.14  1.29          11.2   3.2      -0.5       2.0        1.5   \n",
       "2   7.4  ...  0.68  1.64           8.4  -1.7      -0.8       0.7       -0.2   \n",
       "3   1.8  ...  0.36  0.17           8.5  -0.8      -2.5      -1.9       -4.3   \n",
       "4   2.2  ...  0.32  0.05           6.3  -1.0      -0.5      -1.8       -2.3   \n",
       "\n",
       "   PIE%   ORtg   DRtg  \n",
       "0  13.9  123.0  105.8  \n",
       "1  15.0  117.3  105.6  \n",
       "2  12.1  114.6  112.5  \n",
       "3   6.1   90.9  113.2  \n",
       "4   8.3  111.1  114.9  \n",
       "\n",
       "[5 rows x 21 columns]"
      ]
     },
     "execution_count": 608,
     "metadata": {},
     "output_type": "execute_result"
    }
   ],
   "source": [
    "all_new_data.head()"
   ]
  },
  {
   "cell_type": "code",
   "execution_count": 609,
   "metadata": {},
   "outputs": [
    {
     "data": {
      "text/html": [
       "<div>\n",
       "<style scoped>\n",
       "    .dataframe tbody tr th:only-of-type {\n",
       "        vertical-align: middle;\n",
       "    }\n",
       "\n",
       "    .dataframe tbody tr th {\n",
       "        vertical-align: top;\n",
       "    }\n",
       "\n",
       "    .dataframe thead th {\n",
       "        text-align: right;\n",
       "    }\n",
       "</style>\n",
       "<table border=\"1\" class=\"dataframe\">\n",
       "  <thead>\n",
       "    <tr style=\"text-align: right;\">\n",
       "      <th></th>\n",
       "      <th>Player</th>\n",
       "      <th>TEAM</th>\n",
       "      <th>POS</th>\n",
       "      <th>AGE</th>\n",
       "      <th>GP</th>\n",
       "      <th>MPG</th>\n",
       "      <th>USG%</th>\n",
       "      <th>TS%</th>\n",
       "      <th>PPG</th>\n",
       "      <th>RPG</th>\n",
       "      <th>...</th>\n",
       "      <th>SPG</th>\n",
       "      <th>BPG</th>\n",
       "      <th>VIVersatility</th>\n",
       "      <th>tmRtg</th>\n",
       "      <th>Raptor O</th>\n",
       "      <th>Raptor D</th>\n",
       "      <th>Raptor+/-</th>\n",
       "      <th>PIE%</th>\n",
       "      <th>ORtg</th>\n",
       "      <th>DRtg</th>\n",
       "    </tr>\n",
       "  </thead>\n",
       "  <tbody>\n",
       "    <tr>\n",
       "      <th>0</th>\n",
       "      <td>Steven Adams</td>\n",
       "      <td>Okc</td>\n",
       "      <td>C</td>\n",
       "      <td>27.07</td>\n",
       "      <td>63</td>\n",
       "      <td>26.7</td>\n",
       "      <td>17.3</td>\n",
       "      <td>0.604</td>\n",
       "      <td>10.9</td>\n",
       "      <td>9.3</td>\n",
       "      <td>...</td>\n",
       "      <td>0.81</td>\n",
       "      <td>1.06</td>\n",
       "      <td>9.2</td>\n",
       "      <td>2.5</td>\n",
       "      <td>1.0</td>\n",
       "      <td>1.2</td>\n",
       "      <td>2.2</td>\n",
       "      <td>13.9</td>\n",
       "      <td>123.0</td>\n",
       "      <td>105.8</td>\n",
       "    </tr>\n",
       "    <tr>\n",
       "      <th>1</th>\n",
       "      <td>Bam Adebayo</td>\n",
       "      <td>Mia</td>\n",
       "      <td>C-F</td>\n",
       "      <td>23.08</td>\n",
       "      <td>72</td>\n",
       "      <td>33.6</td>\n",
       "      <td>21.2</td>\n",
       "      <td>0.597</td>\n",
       "      <td>15.9</td>\n",
       "      <td>10.2</td>\n",
       "      <td>...</td>\n",
       "      <td>1.14</td>\n",
       "      <td>1.29</td>\n",
       "      <td>11.2</td>\n",
       "      <td>3.2</td>\n",
       "      <td>-0.5</td>\n",
       "      <td>2.0</td>\n",
       "      <td>1.5</td>\n",
       "      <td>15.0</td>\n",
       "      <td>117.3</td>\n",
       "      <td>105.6</td>\n",
       "    </tr>\n",
       "    <tr>\n",
       "      <th>2</th>\n",
       "      <td>LaMarcus Aldridge</td>\n",
       "      <td>San</td>\n",
       "      <td>F-C</td>\n",
       "      <td>35.07</td>\n",
       "      <td>53</td>\n",
       "      <td>33.1</td>\n",
       "      <td>23.4</td>\n",
       "      <td>0.57</td>\n",
       "      <td>18.9</td>\n",
       "      <td>7.4</td>\n",
       "      <td>...</td>\n",
       "      <td>0.68</td>\n",
       "      <td>1.64</td>\n",
       "      <td>8.4</td>\n",
       "      <td>-1.7</td>\n",
       "      <td>-0.8</td>\n",
       "      <td>0.7</td>\n",
       "      <td>-0.2</td>\n",
       "      <td>12.1</td>\n",
       "      <td>114.6</td>\n",
       "      <td>112.5</td>\n",
       "    </tr>\n",
       "    <tr>\n",
       "      <th>3</th>\n",
       "      <td>Nickeil Alexander-Walker</td>\n",
       "      <td>Nor</td>\n",
       "      <td>G</td>\n",
       "      <td>21.95</td>\n",
       "      <td>47</td>\n",
       "      <td>12.6</td>\n",
       "      <td>23.3</td>\n",
       "      <td>0.473</td>\n",
       "      <td>5.7</td>\n",
       "      <td>1.8</td>\n",
       "      <td>...</td>\n",
       "      <td>0.36</td>\n",
       "      <td>0.17</td>\n",
       "      <td>8.5</td>\n",
       "      <td>-0.8</td>\n",
       "      <td>-2.5</td>\n",
       "      <td>-1.9</td>\n",
       "      <td>-4.3</td>\n",
       "      <td>6.1</td>\n",
       "      <td>90.9</td>\n",
       "      <td>113.2</td>\n",
       "    </tr>\n",
       "    <tr>\n",
       "      <th>4</th>\n",
       "      <td>Grayson Allen</td>\n",
       "      <td>Mem</td>\n",
       "      <td>G</td>\n",
       "      <td>24.85</td>\n",
       "      <td>38</td>\n",
       "      <td>18.9</td>\n",
       "      <td>17.6</td>\n",
       "      <td>0.609</td>\n",
       "      <td>8.7</td>\n",
       "      <td>2.2</td>\n",
       "      <td>...</td>\n",
       "      <td>0.32</td>\n",
       "      <td>0.05</td>\n",
       "      <td>6.3</td>\n",
       "      <td>-1.0</td>\n",
       "      <td>-0.5</td>\n",
       "      <td>-1.8</td>\n",
       "      <td>-2.3</td>\n",
       "      <td>8.3</td>\n",
       "      <td>111.1</td>\n",
       "      <td>114.9</td>\n",
       "    </tr>\n",
       "  </tbody>\n",
       "</table>\n",
       "<p>5 rows × 21 columns</p>\n",
       "</div>"
      ],
      "text/plain": [
       "                     Player TEAM  POS    AGE  GP   MPG  USG%    TS%   PPG  \\\n",
       "0              Steven Adams  Okc    C  27.07  63  26.7  17.3  0.604  10.9   \n",
       "1               Bam Adebayo  Mia  C-F  23.08  72  33.6  21.2  0.597  15.9   \n",
       "2         LaMarcus Aldridge  San  F-C  35.07  53  33.1  23.4   0.57  18.9   \n",
       "3  Nickeil Alexander-Walker  Nor    G  21.95  47  12.6  23.3  0.473   5.7   \n",
       "4             Grayson Allen  Mem    G  24.85  38  18.9  17.6  0.609   8.7   \n",
       "\n",
       "    RPG  ...   SPG   BPG VIVersatility tmRtg  Raptor O  Raptor D  Raptor+/-  \\\n",
       "0   9.3  ...  0.81  1.06           9.2   2.5       1.0       1.2        2.2   \n",
       "1  10.2  ...  1.14  1.29          11.2   3.2      -0.5       2.0        1.5   \n",
       "2   7.4  ...  0.68  1.64           8.4  -1.7      -0.8       0.7       -0.2   \n",
       "3   1.8  ...  0.36  0.17           8.5  -0.8      -2.5      -1.9       -4.3   \n",
       "4   2.2  ...  0.32  0.05           6.3  -1.0      -0.5      -1.8       -2.3   \n",
       "\n",
       "   PIE%   ORtg   DRtg  \n",
       "0  13.9  123.0  105.8  \n",
       "1  15.0  117.3  105.6  \n",
       "2  12.1  114.6  112.5  \n",
       "3   6.1   90.9  113.2  \n",
       "4   8.3  111.1  114.9  \n",
       "\n",
       "[5 rows x 21 columns]"
      ]
     },
     "execution_count": 609,
     "metadata": {},
     "output_type": "execute_result"
    }
   ],
   "source": [
    "#renamed columns that had ambiguous names\n",
    "all_new_data = all_new_data.rename(columns = {'MPG_x': 'MPG', 'USG%_x': 'USG%', 'TS%_x': 'TS%', 'FULL NAME':'Player'})\n",
    "all_new_data.head()"
   ]
  },
  {
   "cell_type": "markdown",
   "metadata": {},
   "source": [
    "# Check For Missing Values"
   ]
  },
  {
   "cell_type": "code",
   "execution_count": 610,
   "metadata": {},
   "outputs": [
    {
     "data": {
      "text/plain": [
       "Player           0\n",
       "TEAM             0\n",
       "POS              0\n",
       "AGE              0\n",
       "GP               0\n",
       "MPG              0\n",
       "USG%             0\n",
       "TS%              2\n",
       "PPG              0\n",
       "RPG              0\n",
       "APG              0\n",
       "SPG              0\n",
       "BPG              0\n",
       "VIVersatility    0\n",
       "tmRtg            0\n",
       "Raptor O         0\n",
       "Raptor D         0\n",
       "Raptor+/-        0\n",
       "PIE%             0\n",
       "ORtg             3\n",
       "DRtg             0\n",
       "dtype: int64"
      ]
     },
     "execution_count": 610,
     "metadata": {},
     "output_type": "execute_result"
    }
   ],
   "source": [
    "#check for missing values\n",
    "all_new_data.isnull().sum()\n",
    "#There are two missing vaues for TS% and 3 missing vaues for ORtg"
   ]
  },
  {
   "cell_type": "code",
   "execution_count": 611,
   "metadata": {},
   "outputs": [
    {
     "data": {
      "text/plain": [
       "Player            object\n",
       "TEAM              object\n",
       "POS               object\n",
       "AGE               object\n",
       "GP                object\n",
       "MPG               object\n",
       "USG%              object\n",
       "TS%               object\n",
       "PPG               object\n",
       "RPG               object\n",
       "APG               object\n",
       "SPG               object\n",
       "BPG               object\n",
       "VIVersatility     object\n",
       "tmRtg            float64\n",
       "Raptor O         float64\n",
       "Raptor D         float64\n",
       "Raptor+/-        float64\n",
       "PIE%             float64\n",
       "ORtg             float64\n",
       "DRtg             float64\n",
       "dtype: object"
      ]
     },
     "execution_count": 611,
     "metadata": {},
     "output_type": "execute_result"
    }
   ],
   "source": [
    "#check to see column data types\n",
    "all_new_data.dtypes\n",
    "#need to change numerical columns to a numerical data type"
   ]
  },
  {
   "cell_type": "code",
   "execution_count": 612,
   "metadata": {},
   "outputs": [],
   "source": [
    "#change the column data types to numeric values\n",
    "convert = {'AGE':float, 'GP':int, 'MPG':float, 'USG%':float, 'TS%':float, 'PPG':float, 'RPG':float, 'APG':float, 'SPG':float,\n",
    "          'BPG':float, 'VIVersatility':float}\n",
    "all_new_data = all_new_data.astype(convert)"
   ]
  },
  {
   "cell_type": "code",
   "execution_count": 613,
   "metadata": {
    "scrolled": true
   },
   "outputs": [
    {
     "data": {
      "text/plain": [
       "Player            object\n",
       "TEAM              object\n",
       "POS               object\n",
       "AGE              float64\n",
       "GP                 int32\n",
       "MPG              float64\n",
       "USG%             float64\n",
       "TS%              float64\n",
       "PPG              float64\n",
       "RPG              float64\n",
       "APG              float64\n",
       "SPG              float64\n",
       "BPG              float64\n",
       "VIVersatility    float64\n",
       "tmRtg            float64\n",
       "Raptor O         float64\n",
       "Raptor D         float64\n",
       "Raptor+/-        float64\n",
       "PIE%             float64\n",
       "ORtg             float64\n",
       "DRtg             float64\n",
       "dtype: object"
      ]
     },
     "execution_count": 613,
     "metadata": {},
     "output_type": "execute_result"
    }
   ],
   "source": [
    "all_new_data.dtypes"
   ]
  },
  {
   "cell_type": "code",
   "execution_count": 614,
   "metadata": {
    "scrolled": true
   },
   "outputs": [
    {
     "data": {
      "text/plain": [
       "<matplotlib.axes._subplots.AxesSubplot at 0x21905f21bb0>"
      ]
     },
     "execution_count": 614,
     "metadata": {},
     "output_type": "execute_result"
    },
    {
     "data": {
      "image/png": "[encoded data removed]",
      "text/plain": [
       "<Figure size 432x288 with 1 Axes>"
      ]
     },
     "metadata": {
      "needs_background": "light"
     },
     "output_type": "display_data"
    }
   ],
   "source": [
    "#deciding whether to impute based on mean or median using a boxplot and determining if there are outliers that would\n",
    "#skew the data\n",
    "all_new_data['TS%'].plot.box()\n",
    "#we are able to impute missing values based on the mean for this column because there are outliers both below the minimum\n",
    "#and above the maximum"
   ]
  },
  {
   "cell_type": "code",
   "execution_count": 615,
   "metadata": {},
   "outputs": [
    {
     "data": {
      "text/plain": [
       "<matplotlib.axes._subplots.AxesSubplot at 0x21905fd47f0>"
      ]
     },
     "execution_count": 615,
     "metadata": {},
     "output_type": "execute_result"
    },
    {
     "data": {
      "image/png": "[encoded data removed]",
      "text/plain": [
       "<Figure size 432x288 with 1 Axes>"
      ]
     },
     "metadata": {
      "needs_background": "light"
     },
     "output_type": "display_data"
    }
   ],
   "source": [
    "all_new_data['ORtg'].plot.box()\n",
    "#we are able to impute missing values based on the mean for this column because there are outliers both below the minimum\n",
    "#and above the maximum"
   ]
  },
  {
   "cell_type": "code",
   "execution_count": 616,
   "metadata": {},
   "outputs": [],
   "source": [
    "#imputing the missing data based on mean\n",
    "all_new_data['TS%'].fillna(all_new_data['TS%'].mean(), inplace = True)\n",
    "all_new_data['ORtg'].fillna(all_new_data['ORtg'].mean(), inplace = True)"
   ]
  },
  {
   "cell_type": "code",
   "execution_count": 617,
   "metadata": {},
   "outputs": [
    {
     "data": {
      "text/plain": [
       "Player           0\n",
       "TEAM             0\n",
       "POS              0\n",
       "AGE              0\n",
       "GP               0\n",
       "MPG              0\n",
       "USG%             0\n",
       "TS%              0\n",
       "PPG              0\n",
       "RPG              0\n",
       "APG              0\n",
       "SPG              0\n",
       "BPG              0\n",
       "VIVersatility    0\n",
       "tmRtg            0\n",
       "Raptor O         0\n",
       "Raptor D         0\n",
       "Raptor+/-        0\n",
       "PIE%             0\n",
       "ORtg             0\n",
       "DRtg             0\n",
       "dtype: int64"
      ]
     },
     "execution_count": 617,
     "metadata": {},
     "output_type": "execute_result"
    }
   ],
   "source": [
    "#check if missing values were imputed\n",
    "all_new_data.isnull().sum()"
   ]
  },
  {
   "cell_type": "markdown",
   "metadata": {},
   "source": [
    "# Check For Outliers"
   ]
  },
  {
   "cell_type": "code",
   "execution_count": 618,
   "metadata": {},
   "outputs": [
    {
     "data": {
      "text/plain": [
       "Player            object\n",
       "TEAM              object\n",
       "POS               object\n",
       "AGE              float64\n",
       "GP                 int32\n",
       "MPG              float64\n",
       "USG%             float64\n",
       "TS%              float64\n",
       "PPG              float64\n",
       "RPG              float64\n",
       "APG              float64\n",
       "SPG              float64\n",
       "BPG              float64\n",
       "VIVersatility    float64\n",
       "tmRtg            float64\n",
       "Raptor O         float64\n",
       "Raptor D         float64\n",
       "Raptor+/-        float64\n",
       "PIE%             float64\n",
       "ORtg             float64\n",
       "DRtg             float64\n",
       "dtype: object"
      ]
     },
     "execution_count": 618,
     "metadata": {},
     "output_type": "execute_result"
    }
   ],
   "source": [
    "#can only check outliers for numeric variables\n",
    "all_new_data.dtypes"
   ]
  },
  {
   "cell_type": "code",
   "execution_count": 619,
   "metadata": {},
   "outputs": [
    {
     "data": {
      "text/plain": [
       "<matplotlib.axes._subplots.AxesSubplot at 0x21906022ee0>"
      ]
     },
     "execution_count": 619,
     "metadata": {},
     "output_type": "execute_result"
    },
    {
     "data": {
      "image/png": "[encoded data removed]",
      "text/plain": [
       "<Figure size 432x288 with 1 Axes>"
      ]
     },
     "metadata": {
      "needs_background": "light"
     },
     "output_type": "display_data"
    }
   ],
   "source": [
    "#AGE column\n",
    "all_new_data['AGE'].plot.box()"
   ]
  },
  {
   "cell_type": "code",
   "execution_count": 620,
   "metadata": {},
   "outputs": [
    {
     "data": {
      "text/plain": [
       "<matplotlib.axes._subplots.AxesSubplot at 0x21902c5e0a0>"
      ]
     },
     "execution_count": 620,
     "metadata": {},
     "output_type": "execute_result"
    },
    {
     "data": {
      "image/png": "[encoded data removed]",
      "text/plain": [
       "<Figure size 432x288 with 1 Axes>"
      ]
     },
     "metadata": {
      "needs_background": "light"
     },
     "output_type": "display_data"
    }
   ],
   "source": [
    "#GP column\n",
    "all_new_data['GP'].plot.box()"
   ]
  },
  {
   "cell_type": "code",
   "execution_count": 621,
   "metadata": {},
   "outputs": [
    {
     "data": {
      "text/plain": [
       "<matplotlib.axes._subplots.AxesSubplot at 0x21905cb4160>"
      ]
     },
     "execution_count": 621,
     "metadata": {},
     "output_type": "execute_result"
    },
    {
     "data": {
      "image/png": "[encoded data removed]",
      "text/plain": [
       "<Figure size 432x288 with 1 Axes>"
      ]
     },
     "metadata": {
      "needs_background": "light"
     },
     "output_type": "display_data"
    }
   ],
   "source": [
    "#MPG column\n",
    "all_new_data['MPG'].plot.box()"
   ]
  },
  {
   "cell_type": "code",
   "execution_count": 622,
   "metadata": {},
   "outputs": [
    {
     "data": {
      "text/plain": [
       "<matplotlib.axes._subplots.AxesSubplot at 0x21906125a90>"
      ]
     },
     "execution_count": 622,
     "metadata": {},
     "output_type": "execute_result"
    },
    {
     "data": {
      "image/png": "[encoded data removed]",
      "text/plain": [
       "<Figure size 432x288 with 1 Axes>"
      ]
     },
     "metadata": {
      "needs_background": "light"
     },
     "output_type": "display_data"
    }
   ],
   "source": [
    "#USG% column\n",
    "all_new_data['USG%'].plot.box()"
   ]
  },
  {
   "cell_type": "code",
   "execution_count": 623,
   "metadata": {},
   "outputs": [
    {
     "data": {
      "text/plain": [
       "<matplotlib.axes._subplots.AxesSubplot at 0x2190618b4f0>"
      ]
     },
     "execution_count": 623,
     "metadata": {},
     "output_type": "execute_result"
    },
    {
     "data": {
      "image/png": "[encoded data removed]",
      "text/plain": [
       "<Figure size 432x288 with 1 Axes>"
      ]
     },
     "metadata": {
      "needs_background": "light"
     },
     "output_type": "display_data"
    }
   ],
   "source": [
    "#TS% Column\n",
    "all_new_data['TS%'].plot.box()"
   ]
  },
  {
   "cell_type": "code",
   "execution_count": 624,
   "metadata": {},
   "outputs": [
    {
     "data": {
      "text/plain": [
       "<matplotlib.axes._subplots.AxesSubplot at 0x219061dbfd0>"
      ]
     },
     "execution_count": 624,
     "metadata": {},
     "output_type": "execute_result"
    },
    {
     "data": {
      "image/png": "[encoded data removed]",
      "text/plain": [
       "<Figure size 432x288 with 1 Axes>"
      ]
     },
     "metadata": {
      "needs_background": "light"
     },
     "output_type": "display_data"
    }
   ],
   "source": [
    "#PPG Column\n",
    "all_new_data['PPG'].plot.box()"
   ]
  },
  {
   "cell_type": "code",
   "execution_count": 625,
   "metadata": {},
   "outputs": [
    {
     "data": {
      "text/plain": [
       "<matplotlib.axes._subplots.AxesSubplot at 0x21906232310>"
      ]
     },
     "execution_count": 625,
     "metadata": {},
     "output_type": "execute_result"
    },
    {
     "data": {
      "image/png": "[encoded data removed]",
      "text/plain": [
       "<Figure size 432x288 with 1 Axes>"
      ]
     },
     "metadata": {
      "needs_background": "light"
     },
     "output_type": "display_data"
    }
   ],
   "source": [
    "#APG Column\n",
    "all_new_data['APG'].plot.box()"
   ]
  },
  {
   "cell_type": "code",
   "execution_count": 626,
   "metadata": {},
   "outputs": [
    {
     "data": {
      "text/plain": [
       "<matplotlib.axes._subplots.AxesSubplot at 0x21902990cd0>"
      ]
     },
     "execution_count": 626,
     "metadata": {},
     "output_type": "execute_result"
    },
    {
     "data": {
      "image/png": "[encoded data removed]",
      "text/plain": [
       "<Figure size 432x288 with 1 Axes>"
      ]
     },
     "metadata": {
      "needs_background": "light"
     },
     "output_type": "display_data"
    }
   ],
   "source": [
    "#RPG Column\n",
    "all_new_data['RPG'].plot.box()"
   ]
  },
  {
   "cell_type": "code",
   "execution_count": 627,
   "metadata": {},
   "outputs": [
    {
     "data": {
      "text/plain": [
       "<matplotlib.axes._subplots.AxesSubplot at 0x2197715d700>"
      ]
     },
     "execution_count": 627,
     "metadata": {},
     "output_type": "execute_result"
    },
    {
     "data": {
      "image/png": "[encoded data removed]",
      "text/plain": [
       "<Figure size 432x288 with 1 Axes>"
      ]
     },
     "metadata": {
      "needs_background": "light"
     },
     "output_type": "display_data"
    }
   ],
   "source": [
    "#SPG Column\n",
    "all_new_data['SPG'].plot.box()"
   ]
  },
  {
   "cell_type": "code",
   "execution_count": 628,
   "metadata": {},
   "outputs": [
    {
     "data": {
      "text/plain": [
       "<matplotlib.axes._subplots.AxesSubplot at 0x219062f14f0>"
      ]
     },
     "execution_count": 628,
     "metadata": {},
     "output_type": "execute_result"
    },
    {
     "data": {
      "image/png": "[encoded data removed]",
      "text/plain": [
       "<Figure size 432x288 with 1 Axes>"
      ]
     },
     "metadata": {
      "needs_background": "light"
     },
     "output_type": "display_data"
    }
   ],
   "source": [
    "#BPG Column\n",
    "all_new_data['BPG'].plot.box()"
   ]
  },
  {
   "cell_type": "code",
   "execution_count": 629,
   "metadata": {},
   "outputs": [
    {
     "data": {
      "text/plain": [
       "<matplotlib.axes._subplots.AxesSubplot at 0x21906348460>"
      ]
     },
     "execution_count": 629,
     "metadata": {},
     "output_type": "execute_result"
    },
    {
     "data": {
      "image/png": "[encoded data removed]",
      "text/plain": [
       "<Figure size 432x288 with 1 Axes>"
      ]
     },
     "metadata": {
      "needs_background": "light"
     },
     "output_type": "display_data"
    }
   ],
   "source": [
    "#VIVersatility Column\n",
    "all_new_data['VIVersatility'].plot.box()"
   ]
  },
  {
   "cell_type": "code",
   "execution_count": 630,
   "metadata": {},
   "outputs": [
    {
     "data": {
      "text/plain": [
       "<matplotlib.axes._subplots.AxesSubplot at 0x2190642a310>"
      ]
     },
     "execution_count": 630,
     "metadata": {},
     "output_type": "execute_result"
    },
    {
     "data": {
      "image/png": "[encoded data removed]",
      "text/plain": [
       "<Figure size 432x288 with 1 Axes>"
      ]
     },
     "metadata": {
      "needs_background": "light"
     },
     "output_type": "display_data"
    }
   ],
   "source": [
    "#tmRtg Column\n",
    "all_new_data['tmRtg'].plot.box()"
   ]
  },
  {
   "cell_type": "code",
   "execution_count": 631,
   "metadata": {},
   "outputs": [
    {
     "data": {
      "text/plain": [
       "<matplotlib.axes._subplots.AxesSubplot at 0x219064965b0>"
      ]
     },
     "execution_count": 631,
     "metadata": {},
     "output_type": "execute_result"
    },
    {
     "data": {
      "image/png": "[encoded data removed]",
      "text/plain": [
       "<Figure size 432x288 with 1 Axes>"
      ]
     },
     "metadata": {
      "needs_background": "light"
     },
     "output_type": "display_data"
    }
   ],
   "source": [
    "#Raptor +/- Column\n",
    "all_new_data['Raptor+/-'].plot.box()"
   ]
  },
  {
   "cell_type": "code",
   "execution_count": 632,
   "metadata": {},
   "outputs": [
    {
     "data": {
      "text/plain": [
       "<matplotlib.axes._subplots.AxesSubplot at 0x219064dc850>"
      ]
     },
     "execution_count": 632,
     "metadata": {},
     "output_type": "execute_result"
    },
    {
     "data": {
      "image/png": "[encoded data removed]",
      "text/plain": [
       "<Figure size 432x288 with 1 Axes>"
      ]
     },
     "metadata": {
      "needs_background": "light"
     },
     "output_type": "display_data"
    }
   ],
   "source": [
    "#PIE% Column\n",
    "all_new_data['PIE%'].plot.box()"
   ]
  },
  {
   "cell_type": "code",
   "execution_count": 633,
   "metadata": {},
   "outputs": [
    {
     "data": {
      "text/plain": [
       "<matplotlib.axes._subplots.AxesSubplot at 0x21906534ee0>"
      ]
     },
     "execution_count": 633,
     "metadata": {},
     "output_type": "execute_result"
    },
    {
     "data": {
      "image/png": "[encoded data removed]",
      "text/plain": [
       "<Figure size 432x288 with 1 Axes>"
      ]
     },
     "metadata": {
      "needs_background": "light"
     },
     "output_type": "display_data"
    }
   ],
   "source": [
    "#ORtg column\n",
    "all_new_data['ORtg'].plot.box()"
   ]
  },
  {
   "cell_type": "code",
   "execution_count": 634,
   "metadata": {
    "scrolled": true
   },
   "outputs": [
    {
     "data": {
      "text/plain": [
       "<matplotlib.axes._subplots.AxesSubplot at 0x21906589910>"
      ]
     },
     "execution_count": 634,
     "metadata": {},
     "output_type": "execute_result"
    },
    {
     "data": {
      "image/png": "[encoded data removed]",
      "text/plain": [
       "<Figure size 432x288 with 1 Axes>"
      ]
     },
     "metadata": {
      "needs_background": "light"
     },
     "output_type": "display_data"
    }
   ],
   "source": [
    "#DRtg\n",
    "all_new_data['DRtg'].plot.box()"
   ]
  },
  {
   "cell_type": "code",
   "execution_count": 635,
   "metadata": {},
   "outputs": [
    {
     "data": {
      "text/plain": [
       "<matplotlib.axes._subplots.AxesSubplot at 0x219065ed490>"
      ]
     },
     "execution_count": 635,
     "metadata": {},
     "output_type": "execute_result"
    },
    {
     "data": {
      "image/png": "[encoded data removed]",
      "text/plain": [
       "<Figure size 432x288 with 1 Axes>"
      ]
     },
     "metadata": {
      "needs_background": "light"
     },
     "output_type": "display_data"
    }
   ],
   "source": [
    "all_new_data['Raptor O'].plot.box()"
   ]
  },
  {
   "cell_type": "code",
   "execution_count": 636,
   "metadata": {},
   "outputs": [
    {
     "data": {
      "text/plain": [
       "<matplotlib.axes._subplots.AxesSubplot at 0x21906632430>"
      ]
     },
     "execution_count": 636,
     "metadata": {},
     "output_type": "execute_result"
    },
    {
     "data": {
      "image/png": "[encoded data removed]",
      "text/plain": [
       "<Figure size 432x288 with 1 Axes>"
      ]
     },
     "metadata": {
      "needs_background": "light"
     },
     "output_type": "display_data"
    }
   ],
   "source": [
    "all_new_data['Raptor D'].plot.box()"
   ]
  },
  {
   "cell_type": "markdown",
   "metadata": {},
   "source": [
    "### Choosing not to drop any outliers because it makes sense for there to be outliers below the minimum and beyond the maximum. There is a large discrepancy between players in the NBA. Those outliers that are below the minimum are likely the players who are not that good and don't accumulate high stats. The outliers that are beyond the maximum are likely star players who generate most of the statistics for their team. Dropping outliers would heavily change the distribution. "
   ]
  },
  {
   "cell_type": "markdown",
   "metadata": {},
   "source": [
    "# Visualizing, Transforming, and Scaling the Data"
   ]
  },
  {
   "cell_type": "code",
   "execution_count": 637,
   "metadata": {},
   "outputs": [
    {
     "data": {
      "text/plain": [
       "<matplotlib.axes._subplots.AxesSubplot at 0x2190669ddf0>"
      ]
     },
     "execution_count": 637,
     "metadata": {},
     "output_type": "execute_result"
    },
    {
     "data": {
      "image/png": "[encoded data removed]",
      "text/plain": [
       "<Figure size 432x288 with 1 Axes>"
      ]
     },
     "metadata": {
      "needs_background": "light"
     },
     "output_type": "display_data"
    }
   ],
   "source": [
    "#AGE Column\n",
    "all_new_data['AGE'].plot.hist()"
   ]
  },
  {
   "cell_type": "code",
   "execution_count": 638,
   "metadata": {},
   "outputs": [
    {
     "name": "stdout",
     "output_type": "stream",
     "text": [
      "19.2\n",
      "43.55\n"
     ]
    }
   ],
   "source": [
    "#minx/max for AGE\n",
    "print(all_new_data['AGE'].min())\n",
    "print(all_new_data['AGE'].max())"
   ]
  },
  {
   "cell_type": "code",
   "execution_count": 639,
   "metadata": {
    "scrolled": true
   },
   "outputs": [
    {
     "data": {
      "text/plain": [
       "<matplotlib.axes._subplots.AxesSubplot at 0x2190670c160>"
      ]
     },
     "execution_count": 639,
     "metadata": {},
     "output_type": "execute_result"
    },
    {
     "data": {
      "image/png": "[encoded data removed]",
      "text/plain": [
       "<Figure size 432x288 with 1 Axes>"
      ]
     },
     "metadata": {
      "needs_background": "light"
     },
     "output_type": "display_data"
    }
   ],
   "source": [
    "#GP Column\n",
    "all_new_data['GP'].plot.hist()"
   ]
  },
  {
   "cell_type": "code",
   "execution_count": 640,
   "metadata": {},
   "outputs": [
    {
     "name": "stdout",
     "output_type": "stream",
     "text": [
      "1\n",
      "74\n"
     ]
    }
   ],
   "source": [
    "#min/max for GP\n",
    "print(all_new_data['GP'].min())\n",
    "print(all_new_data['GP'].max())"
   ]
  },
  {
   "cell_type": "code",
   "execution_count": 641,
   "metadata": {},
   "outputs": [
    {
     "data": {
      "text/plain": [
       "<matplotlib.axes._subplots.AxesSubplot at 0x2190677d970>"
      ]
     },
     "execution_count": 641,
     "metadata": {},
     "output_type": "execute_result"
    },
    {
     "data": {
      "image/png": "[encoded data removed]",
      "text/plain": [
       "<Figure size 432x288 with 1 Axes>"
      ]
     },
     "metadata": {
      "needs_background": "light"
     },
     "output_type": "display_data"
    }
   ],
   "source": [
    "#MPG Column\n",
    "all_new_data['MPG'].plot.hist()"
   ]
  },
  {
   "cell_type": "code",
   "execution_count": 642,
   "metadata": {},
   "outputs": [
    {
     "name": "stdout",
     "output_type": "stream",
     "text": [
      "0.6\n",
      "37.5\n"
     ]
    }
   ],
   "source": [
    "#min/max for MPG\n",
    "print(all_new_data['MPG'].min())\n",
    "print(all_new_data['MPG'].max())"
   ]
  },
  {
   "cell_type": "code",
   "execution_count": 643,
   "metadata": {},
   "outputs": [
    {
     "data": {
      "text/plain": [
       "<matplotlib.axes._subplots.AxesSubplot at 0x2190676c820>"
      ]
     },
     "execution_count": 643,
     "metadata": {},
     "output_type": "execute_result"
    },
    {
     "data": {
      "image/png": "[encoded data removed]",
      "text/plain": [
       "<Figure size 432x288 with 1 Axes>"
      ]
     },
     "metadata": {
      "needs_background": "light"
     },
     "output_type": "display_data"
    }
   ],
   "source": [
    "#USG% Column\n",
    "all_new_data['USG%'].plot.hist()"
   ]
  },
  {
   "cell_type": "code",
   "execution_count": 644,
   "metadata": {},
   "outputs": [
    {
     "name": "stdout",
     "output_type": "stream",
     "text": [
      "0.0\n",
      "44.8\n"
     ]
    }
   ],
   "source": [
    "#min/max for USG%\n",
    "print(all_new_data['USG%'].min())\n",
    "print(all_new_data['USG%'].max())"
   ]
  },
  {
   "cell_type": "code",
   "execution_count": 645,
   "metadata": {
    "scrolled": true
   },
   "outputs": [
    {
     "data": {
      "text/plain": [
       "<matplotlib.axes._subplots.AxesSubplot at 0x2190684f0a0>"
      ]
     },
     "execution_count": 645,
     "metadata": {},
     "output_type": "execute_result"
    },
    {
     "data": {
      "image/png": "[encoded data removed]",
      "text/plain": [
       "<Figure size 432x288 with 1 Axes>"
      ]
     },
     "metadata": {
      "needs_background": "light"
     },
     "output_type": "display_data"
    }
   ],
   "source": [
    "#TS% Column\n",
    "all_new_data['TS%'].plot.hist()"
   ]
  },
  {
   "cell_type": "code",
   "execution_count": 646,
   "metadata": {},
   "outputs": [
    {
     "name": "stdout",
     "output_type": "stream",
     "text": [
      "0.0\n",
      "0.902\n"
     ]
    }
   ],
   "source": [
    "#min/max for TS%\n",
    "print(all_new_data['TS%'].min())\n",
    "print(all_new_data['TS%'].max())"
   ]
  },
  {
   "cell_type": "code",
   "execution_count": 647,
   "metadata": {},
   "outputs": [
    {
     "data": {
      "text/plain": [
       "<matplotlib.axes._subplots.AxesSubplot at 0x219068b4f70>"
      ]
     },
     "execution_count": 647,
     "metadata": {},
     "output_type": "execute_result"
    },
    {
     "data": {
      "image/png": "[encoded data removed]",
      "text/plain": [
       "<Figure size 432x288 with 1 Axes>"
      ]
     },
     "metadata": {
      "needs_background": "light"
     },
     "output_type": "display_data"
    }
   ],
   "source": [
    "#PPG Column\n",
    "all_new_data['PPG'].plot.hist()"
   ]
  },
  {
   "cell_type": "code",
   "execution_count": 648,
   "metadata": {},
   "outputs": [
    {
     "name": "stdout",
     "output_type": "stream",
     "text": [
      "0.0\n",
      "34.3\n"
     ]
    }
   ],
   "source": [
    "#min/max for PPG\n",
    "print(all_new_data['PPG'].min())\n",
    "print(all_new_data['PPG'].max())"
   ]
  },
  {
   "cell_type": "code",
   "execution_count": 649,
   "metadata": {
    "scrolled": true
   },
   "outputs": [
    {
     "data": {
      "text/plain": [
       "<matplotlib.axes._subplots.AxesSubplot at 0x21906928b20>"
      ]
     },
     "execution_count": 649,
     "metadata": {},
     "output_type": "execute_result"
    },
    {
     "data": {
      "image/png": "[encoded data removed]",
      "text/plain": [
       "<Figure size 432x288 with 1 Axes>"
      ]
     },
     "metadata": {
      "needs_background": "light"
     },
     "output_type": "display_data"
    }
   ],
   "source": [
    "#APG Column\n",
    "all_new_data['APG'].plot.hist()"
   ]
  },
  {
   "cell_type": "code",
   "execution_count": 650,
   "metadata": {},
   "outputs": [
    {
     "name": "stdout",
     "output_type": "stream",
     "text": [
      "0.0\n",
      "10.2\n"
     ]
    }
   ],
   "source": [
    "#min/max for APG\n",
    "print(all_new_data['APG'].min())\n",
    "print(all_new_data['APG'].max())"
   ]
  },
  {
   "cell_type": "code",
   "execution_count": 651,
   "metadata": {},
   "outputs": [
    {
     "data": {
      "text/plain": [
       "<matplotlib.axes._subplots.AxesSubplot at 0x21906992a30>"
      ]
     },
     "execution_count": 651,
     "metadata": {},
     "output_type": "execute_result"
    },
    {
     "data": {
      "image/png": "[encoded data removed]",
      "text/plain": [
       "<Figure size 432x288 with 1 Axes>"
      ]
     },
     "metadata": {
      "needs_background": "light"
     },
     "output_type": "display_data"
    }
   ],
   "source": [
    "#RPG Column\n",
    "all_new_data['RPG'].plot.hist()"
   ]
  },
  {
   "cell_type": "code",
   "execution_count": 652,
   "metadata": {},
   "outputs": [
    {
     "name": "stdout",
     "output_type": "stream",
     "text": [
      "0.0\n",
      "15.8\n"
     ]
    }
   ],
   "source": [
    "#min/max for RPG\n",
    "print(all_new_data['RPG'].min())\n",
    "print(all_new_data['RPG'].max())"
   ]
  },
  {
   "cell_type": "code",
   "execution_count": 653,
   "metadata": {
    "scrolled": true
   },
   "outputs": [
    {
     "data": {
      "text/plain": [
       "<matplotlib.axes._subplots.AxesSubplot at 0x21906a0c5b0>"
      ]
     },
     "execution_count": 653,
     "metadata": {},
     "output_type": "execute_result"
    },
    {
     "data": {
      "image/png": "[encoded data removed]",
      "text/plain": [
       "<Figure size 432x288 with 1 Axes>"
      ]
     },
     "metadata": {
      "needs_background": "light"
     },
     "output_type": "display_data"
    }
   ],
   "source": [
    "#SPG Column\n",
    "all_new_data['SPG'].plot.hist()"
   ]
  },
  {
   "cell_type": "code",
   "execution_count": 654,
   "metadata": {},
   "outputs": [
    {
     "name": "stdout",
     "output_type": "stream",
     "text": [
      "0.0\n",
      "2.11\n"
     ]
    }
   ],
   "source": [
    "#min/max for SPG\n",
    "print(all_new_data['SPG'].min())\n",
    "print(all_new_data['SPG'].max())"
   ]
  },
  {
   "cell_type": "code",
   "execution_count": 655,
   "metadata": {
    "scrolled": true
   },
   "outputs": [
    {
     "data": {
      "text/plain": [
       "<matplotlib.axes._subplots.AxesSubplot at 0x21906a6e520>"
      ]
     },
     "execution_count": 655,
     "metadata": {},
     "output_type": "execute_result"
    },
    {
     "data": {
      "image/png": "[encoded data removed]",
      "text/plain": [
       "<Figure size 432x288 with 1 Axes>"
      ]
     },
     "metadata": {
      "needs_background": "light"
     },
     "output_type": "display_data"
    }
   ],
   "source": [
    "#BPG Column\n",
    "all_new_data['BPG'].plot.hist()"
   ]
  },
  {
   "cell_type": "code",
   "execution_count": 656,
   "metadata": {},
   "outputs": [
    {
     "name": "stdout",
     "output_type": "stream",
     "text": [
      "0.0\n",
      "2.93\n"
     ]
    }
   ],
   "source": [
    "#min/max for BPG\n",
    "print(all_new_data['BPG'].min())\n",
    "print(all_new_data['BPG'].max())"
   ]
  },
  {
   "cell_type": "code",
   "execution_count": 657,
   "metadata": {
    "scrolled": true
   },
   "outputs": [
    {
     "data": {
      "text/plain": [
       "<matplotlib.axes._subplots.AxesSubplot at 0x21906add310>"
      ]
     },
     "execution_count": 657,
     "metadata": {},
     "output_type": "execute_result"
    },
    {
     "data": {
      "image/png": "[encoded data removed]",
      "text/plain": [
       "<Figure size 432x288 with 1 Axes>"
      ]
     },
     "metadata": {
      "needs_background": "light"
     },
     "output_type": "display_data"
    }
   ],
   "source": [
    "#VIVersatility Column\n",
    "all_new_data['VIVersatility'].plot.hist()"
   ]
  },
  {
   "cell_type": "code",
   "execution_count": 658,
   "metadata": {},
   "outputs": [
    {
     "name": "stdout",
     "output_type": "stream",
     "text": [
      "0.0\n",
      "17.2\n"
     ]
    }
   ],
   "source": [
    "#min/max for VIVersatility\n",
    "print(all_new_data['VIVersatility'].min())\n",
    "print(all_new_data['VIVersatility'].max())"
   ]
  },
  {
   "cell_type": "code",
   "execution_count": 659,
   "metadata": {},
   "outputs": [
    {
     "data": {
      "text/plain": [
       "<matplotlib.axes._subplots.AxesSubplot at 0x21906b56eb0>"
      ]
     },
     "execution_count": 659,
     "metadata": {},
     "output_type": "execute_result"
    },
    {
     "data": {
      "image/png": "[encoded data removed]",
      "text/plain": [
       "<Figure size 432x288 with 1 Axes>"
      ]
     },
     "metadata": {
      "needs_background": "light"
     },
     "output_type": "display_data"
    }
   ],
   "source": [
    "#tmRtg Column\n",
    "all_new_data['tmRtg'].plot.hist()"
   ]
  },
  {
   "cell_type": "code",
   "execution_count": 660,
   "metadata": {},
   "outputs": [
    {
     "name": "stdout",
     "output_type": "stream",
     "text": [
      "-8.6\n",
      "10.7\n"
     ]
    }
   ],
   "source": [
    "#min/max for tmRtg\n",
    "print(all_new_data['tmRtg'].min())\n",
    "print(all_new_data['tmRtg'].max())"
   ]
  },
  {
   "cell_type": "code",
   "execution_count": 661,
   "metadata": {},
   "outputs": [
    {
     "data": {
      "text/plain": [
       "<matplotlib.axes._subplots.AxesSubplot at 0x21906bbc8e0>"
      ]
     },
     "execution_count": 661,
     "metadata": {},
     "output_type": "execute_result"
    },
    {
     "data": {
      "image/png": "[encoded data removed]",
      "text/plain": [
       "<Figure size 432x288 with 1 Axes>"
      ]
     },
     "metadata": {
      "needs_background": "light"
     },
     "output_type": "display_data"
    }
   ],
   "source": [
    "#Raptor+/- Column\n",
    "all_new_data['Raptor+/-'].plot.hist()"
   ]
  },
  {
   "cell_type": "code",
   "execution_count": 662,
   "metadata": {},
   "outputs": [
    {
     "name": "stdout",
     "output_type": "stream",
     "text": [
      "-63.4\n",
      "33.8\n"
     ]
    }
   ],
   "source": [
    "#min/max for Raptor+/-\n",
    "print(all_new_data['Raptor+/-'].min())\n",
    "print(all_new_data['Raptor+/-'].max())"
   ]
  },
  {
   "cell_type": "code",
   "execution_count": 663,
   "metadata": {},
   "outputs": [
    {
     "data": {
      "text/plain": [
       "<matplotlib.axes._subplots.AxesSubplot at 0x21906c2f6d0>"
      ]
     },
     "execution_count": 663,
     "metadata": {},
     "output_type": "execute_result"
    },
    {
     "data": {
      "image/png": "[encoded data removed]",
      "text/plain": [
       "<Figure size 432x288 with 1 Axes>"
      ]
     },
     "metadata": {
      "needs_background": "light"
     },
     "output_type": "display_data"
    }
   ],
   "source": [
    "#PIE% Column\n",
    "all_new_data['PIE%'].plot.hist()"
   ]
  },
  {
   "cell_type": "code",
   "execution_count": 664,
   "metadata": {},
   "outputs": [
    {
     "name": "stdout",
     "output_type": "stream",
     "text": [
      "-25.0\n",
      "23.4\n"
     ]
    }
   ],
   "source": [
    "#min/max for PIE%\n",
    "print(all_new_data['PIE%'].min())\n",
    "print(all_new_data['PIE%'].max())"
   ]
  },
  {
   "cell_type": "code",
   "execution_count": 665,
   "metadata": {},
   "outputs": [
    {
     "data": {
      "text/plain": [
       "<matplotlib.axes._subplots.AxesSubplot at 0x21902c6e910>"
      ]
     },
     "execution_count": 665,
     "metadata": {},
     "output_type": "execute_result"
    },
    {
     "data": {
      "image/png": "[encoded data removed]",
      "text/plain": [
       "<Figure size 432x288 with 1 Axes>"
      ]
     },
     "metadata": {
      "needs_background": "light"
     },
     "output_type": "display_data"
    }
   ],
   "source": [
    "#ORtg Column\n",
    "all_new_data['ORtg'].plot.hist()"
   ]
  },
  {
   "cell_type": "code",
   "execution_count": 666,
   "metadata": {},
   "outputs": [
    {
     "name": "stdout",
     "output_type": "stream",
     "text": [
      "0.0\n",
      "226.0\n"
     ]
    }
   ],
   "source": [
    "#min/max for ORtg\n",
    "print(all_new_data['ORtg'].min())\n",
    "print(all_new_data['ORtg'].max())"
   ]
  },
  {
   "cell_type": "code",
   "execution_count": 667,
   "metadata": {},
   "outputs": [
    {
     "data": {
      "text/plain": [
       "<matplotlib.axes._subplots.AxesSubplot at 0x219062263d0>"
      ]
     },
     "execution_count": 667,
     "metadata": {},
     "output_type": "execute_result"
    },
    {
     "data": {
      "image/png": "[encoded data removed]",
      "text/plain": [
       "<Figure size 432x288 with 1 Axes>"
      ]
     },
     "metadata": {
      "needs_background": "light"
     },
     "output_type": "display_data"
    }
   ],
   "source": [
    "#DRtg Column\n",
    "all_new_data['DRtg'].plot.hist()"
   ]
  },
  {
   "cell_type": "code",
   "execution_count": 668,
   "metadata": {
    "scrolled": true
   },
   "outputs": [
    {
     "name": "stdout",
     "output_type": "stream",
     "text": [
      "69.2\n",
      "123.4\n"
     ]
    }
   ],
   "source": [
    "#min/max for DRtg\n",
    "print(all_new_data['DRtg'].min())\n",
    "print(all_new_data['DRtg'].max())"
   ]
  },
  {
   "cell_type": "code",
   "execution_count": 669,
   "metadata": {
    "scrolled": true
   },
   "outputs": [
    {
     "data": {
      "text/plain": [
       "<matplotlib.axes._subplots.AxesSubplot at 0x21908d09a90>"
      ]
     },
     "execution_count": 669,
     "metadata": {},
     "output_type": "execute_result"
    },
    {
     "data": {
      "image/png": "[encoded data removed]",
      "text/plain": [
       "<Figure size 432x288 with 1 Axes>"
      ]
     },
     "metadata": {
      "needs_background": "light"
     },
     "output_type": "display_data"
    }
   ],
   "source": [
    "#Raptor O Column\n",
    "all_new_data['Raptor O'].plot.hist()"
   ]
  },
  {
   "cell_type": "code",
   "execution_count": 670,
   "metadata": {},
   "outputs": [
    {
     "name": "stdout",
     "output_type": "stream",
     "text": [
      "-77.9\n",
      "19.0\n"
     ]
    }
   ],
   "source": [
    "#mix/max for Raptor O\n",
    "print(all_new_data['Raptor O'].min())\n",
    "print(all_new_data['Raptor O'].max())"
   ]
  },
  {
   "cell_type": "code",
   "execution_count": 671,
   "metadata": {},
   "outputs": [
    {
     "data": {
      "text/plain": [
       "<matplotlib.axes._subplots.AxesSubplot at 0x21908d73430>"
      ]
     },
     "execution_count": 671,
     "metadata": {},
     "output_type": "execute_result"
    },
    {
     "data": {
      "image/png": "[encoded data removed]",
      "text/plain": [
       "<Figure size 432x288 with 1 Axes>"
      ]
     },
     "metadata": {
      "needs_background": "light"
     },
     "output_type": "display_data"
    }
   ],
   "source": [
    "#Raptor D Column\n",
    "all_new_data['Raptor D'].plot.hist()"
   ]
  },
  {
   "cell_type": "code",
   "execution_count": 672,
   "metadata": {},
   "outputs": [
    {
     "name": "stdout",
     "output_type": "stream",
     "text": [
      "-29.5\n",
      "41.7\n"
     ]
    }
   ],
   "source": [
    "#min/max for Raptor D\n",
    "print(all_new_data['Raptor D'].min())\n",
    "print(all_new_data['Raptor D'].max())"
   ]
  },
  {
   "cell_type": "code",
   "execution_count": 673,
   "metadata": {
    "scrolled": true
   },
   "outputs": [
    {
     "data": {
      "text/plain": [
       "<matplotlib.axes._subplots.AxesSubplot at 0x21908dc2490>"
      ]
     },
     "execution_count": 673,
     "metadata": {},
     "output_type": "execute_result"
    },
    {
     "data": {
      "image/png": "[encoded data removed]",
      "text/plain": [
       "<Figure size 432x288 with 1 Axes>"
      ]
     },
     "metadata": {
      "needs_background": "light"
     },
     "output_type": "display_data"
    }
   ],
   "source": [
    "#transforming the PPG column because it is skewed to the right\n",
    "all_new_data['PPG_transformed'] = all_new_data['PPG'].apply(np.sqrt)\n",
    "all_new_data['PPG_transformed'].plot.hist()"
   ]
  },
  {
   "cell_type": "code",
   "execution_count": 674,
   "metadata": {},
   "outputs": [
    {
     "data": {
      "text/plain": [
       "<matplotlib.axes._subplots.AxesSubplot at 0x21908e51910>"
      ]
     },
     "execution_count": 674,
     "metadata": {},
     "output_type": "execute_result"
    },
    {
     "data": {
      "image/png": "[encoded data removed]",
      "text/plain": [
       "<Figure size 432x288 with 1 Axes>"
      ]
     },
     "metadata": {
      "needs_background": "light"
     },
     "output_type": "display_data"
    }
   ],
   "source": [
    "#transforming the APG column because it is skewed to the right\n",
    "all_new_data['APG_transformed'] = all_new_data['APG'].apply(np.sqrt)\n",
    "all_new_data['APG_transformed'].plot.hist()"
   ]
  },
  {
   "cell_type": "code",
   "execution_count": 675,
   "metadata": {},
   "outputs": [
    {
     "data": {
      "text/plain": [
       "<matplotlib.axes._subplots.AxesSubplot at 0x21908eb69d0>"
      ]
     },
     "execution_count": 675,
     "metadata": {},
     "output_type": "execute_result"
    },
    {
     "data": {
      "image/png": "[encoded data removed]",
      "text/plain": [
       "<Figure size 432x288 with 1 Axes>"
      ]
     },
     "metadata": {
      "needs_background": "light"
     },
     "output_type": "display_data"
    }
   ],
   "source": [
    "#transforming the RPG column because it is skewed to the right\n",
    "all_new_data['RPG_transformed'] = all_new_data['RPG'].apply(np.sqrt)\n",
    "all_new_data['RPG_transformed'].plot.hist()"
   ]
  },
  {
   "cell_type": "code",
   "execution_count": 676,
   "metadata": {},
   "outputs": [
    {
     "data": {
      "text/plain": [
       "<matplotlib.axes._subplots.AxesSubplot at 0x21908f36eb0>"
      ]
     },
     "execution_count": 676,
     "metadata": {},
     "output_type": "execute_result"
    },
    {
     "data": {
      "image/png": "[encoded data removed]",
      "text/plain": [
       "<Figure size 432x288 with 1 Axes>"
      ]
     },
     "metadata": {
      "needs_background": "light"
     },
     "output_type": "display_data"
    }
   ],
   "source": [
    "#transforming the SPG column because it is skewed to the right\n",
    "all_new_data['SPG_transformed'] = all_new_data['SPG'].apply(np.sqrt)\n",
    "all_new_data['SPG_transformed'].plot.hist()"
   ]
  },
  {
   "cell_type": "code",
   "execution_count": 677,
   "metadata": {},
   "outputs": [
    {
     "data": {
      "text/plain": [
       "<matplotlib.axes._subplots.AxesSubplot at 0x2190a44c550>"
      ]
     },
     "execution_count": 677,
     "metadata": {},
     "output_type": "execute_result"
    },
    {
     "data": {
      "image/png": "[encoded data removed]",
      "text/plain": [
       "<Figure size 432x288 with 1 Axes>"
      ]
     },
     "metadata": {
      "needs_background": "light"
     },
     "output_type": "display_data"
    }
   ],
   "source": [
    "#transforming the BPG column because it is skewed to the right\n",
    "all_new_data['BPG_transformed'] = all_new_data['BPG'].apply(np.sqrt)\n",
    "all_new_data['BPG_transformed'].plot.hist()"
   ]
  },
  {
   "cell_type": "code",
   "execution_count": 678,
   "metadata": {},
   "outputs": [
    {
     "data": {
      "text/plain": [
       "<matplotlib.axes._subplots.AxesSubplot at 0x2190a4bed60>"
      ]
     },
     "execution_count": 678,
     "metadata": {},
     "output_type": "execute_result"
    },
    {
     "data": {
      "image/png": "[encoded data removed]",
      "text/plain": [
       "<Figure size 432x288 with 1 Axes>"
      ]
     },
     "metadata": {
      "needs_background": "light"
     },
     "output_type": "display_data"
    }
   ],
   "source": [
    "#transforming the PIE% column because it is skewed to the left\n",
    "all_new_data['PIE%_transformed'] = all_new_data['PIE%'].apply(np.sqrt)\n",
    "all_new_data['PIE%_transformed'].plot.hist()"
   ]
  },
  {
   "cell_type": "code",
   "execution_count": 679,
   "metadata": {},
   "outputs": [
    {
     "data": {
      "text/plain": [
       "<matplotlib.axes._subplots.AxesSubplot at 0x2190a52ef10>"
      ]
     },
     "execution_count": 679,
     "metadata": {},
     "output_type": "execute_result"
    },
    {
     "data": {
      "image/png": "[encoded data removed]",
      "text/plain": [
       "<Figure size 432x288 with 1 Axes>"
      ]
     },
     "metadata": {
      "needs_background": "light"
     },
     "output_type": "display_data"
    }
   ],
   "source": [
    "#transforming the ORtg column because it is skewed to the left\n",
    "all_new_data['ORtg_transformed'] = all_new_data['ORtg'].apply(np.sqrt)\n",
    "all_new_data['ORtg_transformed'].plot.hist()"
   ]
  },
  {
   "cell_type": "code",
   "execution_count": 680,
   "metadata": {
    "scrolled": false
   },
   "outputs": [
    {
     "data": {
      "text/plain": [
       "<matplotlib.axes._subplots.AxesSubplot at 0x2190b5635b0>"
      ]
     },
     "execution_count": 680,
     "metadata": {},
     "output_type": "execute_result"
    },
    {
     "data": {
      "image/png": "[encoded data removed]",
      "text/plain": [
       "<Figure size 432x288 with 1 Axes>"
      ]
     },
     "metadata": {
      "needs_background": "light"
     },
     "output_type": "display_data"
    }
   ],
   "source": [
    "#transforming the DRtg column because it is skewed to the left\n",
    "all_new_data['DRtg_transformed'] = all_new_data['DRtg'].apply(np.sqrt)\n",
    "all_new_data['DRtg_transformed'].plot.hist()"
   ]
  },
  {
   "cell_type": "code",
   "execution_count": 681,
   "metadata": {
    "scrolled": true
   },
   "outputs": [
    {
     "data": {
      "text/plain": [
       "Player               0\n",
       "TEAM                 0\n",
       "POS                  0\n",
       "AGE                  0\n",
       "GP                   0\n",
       "MPG                  0\n",
       "USG%                 0\n",
       "TS%                  0\n",
       "PPG                  0\n",
       "RPG                  0\n",
       "APG                  0\n",
       "SPG                  0\n",
       "BPG                  0\n",
       "VIVersatility        0\n",
       "tmRtg                0\n",
       "Raptor O             0\n",
       "Raptor D             0\n",
       "Raptor+/-            0\n",
       "PIE%                 0\n",
       "ORtg                 0\n",
       "DRtg                 0\n",
       "PPG_transformed      0\n",
       "APG_transformed      0\n",
       "RPG_transformed      0\n",
       "SPG_transformed      0\n",
       "BPG_transformed      0\n",
       "PIE%_transformed    29\n",
       "ORtg_transformed     0\n",
       "DRtg_transformed     0\n",
       "dtype: int64"
      ]
     },
     "execution_count": 681,
     "metadata": {},
     "output_type": "execute_result"
    }
   ],
   "source": [
    "all_new_data.isnull().sum()"
   ]
  },
  {
   "cell_type": "code",
   "execution_count": 682,
   "metadata": {},
   "outputs": [],
   "source": [
    "all_new_data['PIE%_transformed'].fillna(all_new_data['PIE%_transformed'].mean(), inplace = True)\n",
    "#chose to impute PIE%_transformed by the mean because there are outliers below the minimum and beyond the maximum"
   ]
  },
  {
   "cell_type": "code",
   "execution_count": 683,
   "metadata": {},
   "outputs": [
    {
     "data": {
      "text/plain": [
       "Player              0\n",
       "TEAM                0\n",
       "POS                 0\n",
       "AGE                 0\n",
       "GP                  0\n",
       "MPG                 0\n",
       "USG%                0\n",
       "TS%                 0\n",
       "PPG                 0\n",
       "RPG                 0\n",
       "APG                 0\n",
       "SPG                 0\n",
       "BPG                 0\n",
       "VIVersatility       0\n",
       "tmRtg               0\n",
       "Raptor O            0\n",
       "Raptor D            0\n",
       "Raptor+/-           0\n",
       "PIE%                0\n",
       "ORtg                0\n",
       "DRtg                0\n",
       "PPG_transformed     0\n",
       "APG_transformed     0\n",
       "RPG_transformed     0\n",
       "SPG_transformed     0\n",
       "BPG_transformed     0\n",
       "PIE%_transformed    0\n",
       "ORtg_transformed    0\n",
       "DRtg_transformed    0\n",
       "dtype: int64"
      ]
     },
     "execution_count": 683,
     "metadata": {},
     "output_type": "execute_result"
    }
   ],
   "source": [
    "all_new_data.isnull().sum()"
   ]
  },
  {
   "cell_type": "markdown",
   "metadata": {},
   "source": [
    "# Create the Model"
   ]
  },
  {
   "cell_type": "markdown",
   "metadata": {},
   "source": [
    "## Linear Regression with Individual-Driven Statistics"
   ]
  },
  {
   "cell_type": "code",
   "execution_count": 684,
   "metadata": {},
   "outputs": [
    {
     "data": {
      "text/plain": [
       "LinearRegression()"
      ]
     },
     "execution_count": 684,
     "metadata": {},
     "output_type": "execute_result"
    }
   ],
   "source": [
    "lm = LinearRegression()\n",
    "x = all_new_data[['PPG_transformed', 'USG%', 'TS%', 'PIE%_transformed', 'VIVersatility', 'ORtg_transformed', 'Raptor O']]\n",
    "y = all_new_data['Raptor+/-']\n",
    "lm.fit(x, y)"
   ]
  },
  {
   "cell_type": "code",
   "execution_count": 685,
   "metadata": {},
   "outputs": [
    {
     "name": "stdout",
     "output_type": "stream",
     "text": [
      "Coefficient of determination:  0.5732435446441481\n"
     ]
    }
   ],
   "source": [
    "r_squared = lm.score(x, y)\n",
    "print('Coefficient of determination: ', r_squared)"
   ]
  },
  {
   "cell_type": "code",
   "execution_count": 686,
   "metadata": {},
   "outputs": [
    {
     "data": {
      "text/plain": [
       "4.5941426347018375"
      ]
     },
     "execution_count": 686,
     "metadata": {},
     "output_type": "execute_result"
    }
   ],
   "source": [
    "import math\n",
    "from sklearn.metrics import mean_squared_error\n",
    "y_predict = lm.predict(x)\n",
    "regression_model_mse = mean_squared_error(y_predict, y)\n",
    "math.sqrt(regression_model_mse)"
   ]
  },
  {
   "cell_type": "markdown",
   "metadata": {},
   "source": [
    "## Linear Regression with Team-Driven Non-Scoring Statistics"
   ]
  },
  {
   "cell_type": "code",
   "execution_count": 687,
   "metadata": {},
   "outputs": [
    {
     "data": {
      "text/plain": [
       "LinearRegression()"
      ]
     },
     "execution_count": 687,
     "metadata": {},
     "output_type": "execute_result"
    }
   ],
   "source": [
    "lm = LinearRegression()\n",
    "x = all_new_data[['APG_transformed', 'RPG_transformed', 'BPG_transformed', 'SPG_transformed', 'DRtg_transformed', 'Raptor D']]\n",
    "y = all_new_data['Raptor+/-']\n",
    "lm.fit(x, y)"
   ]
  },
  {
   "cell_type": "code",
   "execution_count": 688,
   "metadata": {},
   "outputs": [
    {
     "name": "stdout",
     "output_type": "stream",
     "text": [
      "Coefficient of determination:  0.3697621064951383\n"
     ]
    }
   ],
   "source": [
    "r_squared = lm.score(x, y)\n",
    "print('Coefficient of determination: ', r_squared)"
   ]
  },
  {
   "cell_type": "code",
   "execution_count": 689,
   "metadata": {},
   "outputs": [
    {
     "data": {
      "text/plain": [
       "5.582987827669979"
      ]
     },
     "execution_count": 689,
     "metadata": {},
     "output_type": "execute_result"
    }
   ],
   "source": [
    "import math\n",
    "from sklearn.metrics import mean_squared_error\n",
    "y_predict = lm.predict(x)\n",
    "regression_model_mse = mean_squared_error(y_predict, y)\n",
    "math.sqrt(regression_model_mse)"
   ]
  },
  {
   "cell_type": "markdown",
   "metadata": {},
   "source": [
    "## Linear Regression with Box-Score Statistics"
   ]
  },
  {
   "cell_type": "code",
   "execution_count": 690,
   "metadata": {},
   "outputs": [
    {
     "data": {
      "text/plain": [
       "LinearRegression()"
      ]
     },
     "execution_count": 690,
     "metadata": {},
     "output_type": "execute_result"
    }
   ],
   "source": [
    "lm = LinearRegression()\n",
    "x = all_new_data[['PPG_transformed', 'APG_transformed', 'RPG_transformed', 'BPG_transformed', 'SPG_transformed', 'MPG']]\n",
    "y = all_new_data['Raptor+/-']\n",
    "lm.fit(x, y)"
   ]
  },
  {
   "cell_type": "code",
   "execution_count": 691,
   "metadata": {
    "scrolled": true
   },
   "outputs": [
    {
     "name": "stdout",
     "output_type": "stream",
     "text": [
      "Coefficient of determination:  0.12825762057613177\n"
     ]
    }
   ],
   "source": [
    "r_squared = lm.score(x, y)\n",
    "print('Coefficient of determination: ', r_squared)"
   ]
  },
  {
   "cell_type": "code",
   "execution_count": 692,
   "metadata": {},
   "outputs": [
    {
     "data": {
      "text/plain": [
       "6.566115303144572"
      ]
     },
     "execution_count": 692,
     "metadata": {},
     "output_type": "execute_result"
    }
   ],
   "source": [
    "import math\n",
    "from sklearn.metrics import mean_squared_error\n",
    "y_predict = lm.predict(x)\n",
    "regression_model_mse = mean_squared_error(y_predict, y)\n",
    "math.sqrt(regression_model_mse)"
   ]
  },
  {
   "cell_type": "markdown",
   "metadata": {},
   "source": [
    "## Linear Regression with Advanced Statistics"
   ]
  },
  {
   "cell_type": "code",
   "execution_count": 693,
   "metadata": {},
   "outputs": [
    {
     "data": {
      "text/plain": [
       "LinearRegression()"
      ]
     },
     "execution_count": 693,
     "metadata": {},
     "output_type": "execute_result"
    }
   ],
   "source": [
    "lm = LinearRegression()\n",
    "x = all_new_data[['USG%', 'TS%', 'VIVersatility', 'tmRtg', 'PIE%_transformed', 'ORtg_transformed', 'DRtg_transformed', \n",
    "                  'Raptor O','Raptor D']]\n",
    "y = all_new_data['Raptor+/-']\n",
    "lm.fit(x, y)"
   ]
  },
  {
   "cell_type": "code",
   "execution_count": 694,
   "metadata": {},
   "outputs": [
    {
     "name": "stdout",
     "output_type": "stream",
     "text": [
      "Coefficient of determination:  0.9999502357202907\n"
     ]
    }
   ],
   "source": [
    "r_squared = lm.score(x, y)\n",
    "print('Coefficient of determination: ', r_squared)"
   ]
  },
  {
   "cell_type": "code",
   "execution_count": 695,
   "metadata": {
    "scrolled": true
   },
   "outputs": [
    {
     "data": {
      "text/plain": [
       "0.04961046369229128"
      ]
     },
     "execution_count": 695,
     "metadata": {},
     "output_type": "execute_result"
    }
   ],
   "source": [
    "import math\n",
    "from sklearn.metrics import mean_squared_error\n",
    "y_predict = lm.predict(x)\n",
    "regression_model_mse = mean_squared_error(y_predict, y)\n",
    "math.sqrt(regression_model_mse)"
   ]
  }
 ],
 "metadata": {
  "kernelspec": {
   "display_name": "Python 3",
   "language": "python",
   "name": "python3"
  },
  "language_info": {
   "codemirror_mode": {
    "name": "ipython",
    "version": 3
   },
   "file_extension": ".py",
   "mimetype": "text/x-python",
   "name": "python",
   "nbconvert_exporter": "python",
   "pygments_lexer": "ipython3",
   "version": "3.8.3"
  }
 },
 "nbformat": 4,
 "nbformat_minor": 4
}
